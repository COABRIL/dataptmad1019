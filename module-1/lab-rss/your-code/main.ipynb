{
 "cells": [
  {
   "cell_type": "markdown",
   "metadata": {},
   "source": [
    "# Working with RSS Feeds Lab\n",
    "\n",
    "Complete the following set of exercises to solidify your knowledge of parsing RSS feeds and extracting information from them."
   ]
  },
  {
   "cell_type": "code",
   "execution_count": 2,
   "metadata": {},
   "outputs": [
    {
     "name": "stdout",
     "output_type": "stream",
     "text": [
      "Requirement already satisfied: feedparser in /home/cristina/miniconda3/envs/ironhack_env/lib/python3.7/site-packages (5.2.1)\r\n"
     ]
    }
   ],
   "source": [
    "!pip install feedparser\n",
    "import feedparser"
   ]
  },
  {
   "cell_type": "markdown",
   "metadata": {},
   "source": [
    "### 1. Use feedparser to parse the following RSS feed URL."
   ]
  },
  {
   "cell_type": "code",
   "execution_count": 3,
   "metadata": {},
   "outputs": [],
   "source": [
    "url = 'http://feeds.feedburner.com/oreilly/radar/atom'"
   ]
  },
  {
   "cell_type": "code",
   "execution_count": 24,
   "metadata": {},
   "outputs": [
    {
     "name": "stdout",
     "output_type": "stream",
     "text": [
      "{'feed': {'title': 'Radar', 'title_detail': {'type': 'text/plain', 'language': None, 'base': 'http://feeds.feedburner.com/oreilly/radar/atom', 'value': 'Radar'}, 'links': [{'rel': 'alternate', 'type': 'text/html', 'href': 'https://www.oreilly.com/radar'}, {'rel': 'self', 'type': 'application/rss+xml', 'href': 'http://feeds.feedburner.com/oreilly/radar/atom'}, {'rel': 'hub', 'href': 'http://pubsubhubbub.appspot.com/', 'type': 'text/html'}], 'link': 'https://www.oreilly.com/radar', 'subtitle': 'Now, next, and beyond: Tracking need-to-know trends at the intersection of business and technology', 'subtitle_detail': {'type': 'text/html', 'language': None, 'base': 'http://feeds.feedburner.com/oreilly/radar/atom', 'value': 'Now, next, and beyond: Tracking need-to-know trends at the intersection of business and technology'}, 'updated': 'Thu, 12 Dec 2019 12:26:23 -0500', 'updated_parsed': time.struct_time(tm_year=2019, tm_mon=12, tm_mday=12, tm_hour=17, tm_min=26, tm_sec=23, tm_wday=3, tm_yday=346, tm_isdst=0), 'language': 'en-US', 'sy_updateperiod': 'hourly', 'sy_updatefrequency': '1', 'generator_detail': {'name': 'https://wordpress.org/?v=5.3'}, 'generator': 'https://wordpress.org/?v=5.3', 'feedburner_info': {'uri': 'oreilly/radar/atom'}, 'geo_lat': '38.393314', 'geo_long': '-122.836667', 'feedburner_emailserviceid': 'oreilly/radar/atom', 'feedburner_feedburnerhostname': 'https://feedburner.google.com'}, 'entries': [{'title': 'Why you should care about debugging machine learning models', 'title_detail': {'type': 'text/plain', 'language': None, 'base': 'http://feeds.feedburner.com/oreilly/radar/atom', 'value': 'Why you should care about debugging machine learning models'}, 'links': [{'rel': 'alternate', 'type': 'text/html', 'href': 'http://feedproxy.google.com/~r/oreilly/radar/atom/~3/rqjZCS-gpkQ/'}], 'link': 'http://feedproxy.google.com/~r/oreilly/radar/atom/~3/rqjZCS-gpkQ/', 'comments': 'https://www.oreilly.com/radar/why-you-should-care-about-debugging-machine-learning-models/#respond', 'published': 'Thu, 12 Dec 2019 11:00:00 +0000', 'published_parsed': time.struct_time(tm_year=2019, tm_mon=12, tm_mday=12, tm_hour=11, tm_min=0, tm_sec=0, tm_wday=3, tm_yday=346, tm_isdst=0), 'authors': [{'name': 'Patrick Hall and Andrew Burt'}], 'author': 'Patrick Hall and Andrew Burt', 'author_detail': {'name': 'Patrick Hall and Andrew Burt'}, 'tags': [{'term': 'AI & ML', 'scheme': None, 'label': None}, {'term': 'Deep Dive', 'scheme': None, 'label': None}], 'id': 'https://www.oreilly.com/radar/?p=11197', 'guidislink': False, 'summary': 'For all the excitement about machine learning (ML), there are serious impediments to its widespread adoption. Not least is the broadening realization that ML models can fail. And that’s why model debugging, the art and science of understanding and fixing problems in ML models, is so critical to the future of ML. Without being able [&#8230;]', 'summary_detail': {'type': 'text/html', 'language': None, 'base': 'http://feeds.feedburner.com/oreilly/radar/atom', 'value': 'For all the excitement about machine learning (ML), there are serious impediments to its widespread adoption. Not least is the broadening realization that ML models can fail. And that’s why model debugging, the art and science of understanding and fixing problems in ML models, is so critical to the future of ML. Without being able [&#8230;]'}, 'content': [{'type': 'text/html', 'language': None, 'base': 'http://feeds.feedburner.com/oreilly/radar/atom', 'value': '<p>For all the excitement about machine learning (ML), there are serious impediments to its widespread adoption. Not least is the broadening realization that ML models can fail. And that’s why model debugging, the art and science of understanding and fixing problems in ML models, is so critical to the future of ML. Without being able to troubleshoot models when they underperform or misbehave, organizations simply won’t be able to adopt and deploy ML at scale.</p>\\n<p id=\"F1\">Because all ML models make mistakes, everyone who cares about ML should also care about model debugging.<a href=\"#_ftn1\"><sup>[1]</sup></a> This includes C-suite executives, front-line data scientists, and risk, legal, and compliance personnel. This article is meant to be a short, relatively technical primer on what model debugging is, what you should know about it, and the basics of how to debug models in practice. These recommendations are based on our experience, both as a data scientist and as a lawyer, focused on managing the risks of deploying ML.</p>\\n<h2>What is model debugging?</h2>\\n<p id=\"F2\">Sometimes ML models are just plain wrong, but sometimes they’re wrong <em>and</em> socially discriminatory, or hacked, or simply unethical.<a href=\"#_ftn2\"><sup>[2]</sup></a>,<a href=\"#_ftn3\"><sup>[3]</sup></a>,<a href=\"#_ftn4\"><sup>[4]</sup></a> Current model assessment techniques, like cross-validation or receiver operator characteristic (ROC) and lift curves, simply don’t tell us about all the nasty things that can happen when ML models are deployed as part of large, complex, public-facing IT systems.<a href=\"#_ftn5\"><sup>[5]</sup></a></p>\\n<p id=\"F6\">That’s where model debugging comes in. Model debugging is an emergent discipline focused on finding and fixing problems in ML systems. In addition to newer innovations, the practice borrows from model risk management, traditional model diagnostics, and software testing. Model debugging attempts to test ML models like code (because they are usually code) and to probe sophisticated ML response functions and decision boundaries to detect and correct accuracy, fairness, security, and other problems in ML systems.<a href=\"#_ftn6\"><sup>[6]</sup></a> Debugging may focus on a variety of failure modes (i.e., a lot can go wrong with ML models), including:</p>\\n<ul>\\n<li><strong>Opaqueness</strong>: for many failure modes, you need to understand what the model is doing in order to understand what went wrong and how to fix it. Crucially, transparency doesn’t guarantee trustworthy models. But transparency is typically a prerequisite for debugging writ large.</li>\\n<li id=\"F7\"><strong>Social discrimination:</strong> by now, there are many widely publicized incidences of social discrimination in ML. These can cause harm to the subjects of the discriminatory model’s decisions and substantial reputational or regulatory harms to the model’s owners.<a href=\"#_ftn7\"><sup>[7]</sup></a></li>\\n<li id=\"F8\"><strong>Security vulnerabilities</strong>: adversarial actors can compromise the confidentiality, integrity, or availability of an ML model or the data associated with the model, creating a host of undesirable outcomes. The study of security in ML is a growing field—and a growing problem, as we documented in a recent Future of Privacy Forum report.<a href=\"#_ftn8\"><sup>[8]</sup></a></li>\\n<li><strong>Privacy harms</strong>: models can compromise individual privacy in a long (and growing) list of ways.<a href=\"#_ftn8\"><sup>[8]</sup></a> Data about individuals can be decoded from ML models long after they’ve trained on that data (through what’s known as inversion or extraction attacks, for example). Models may also violate the privacy of individuals by inferring sensitive attributes from non-sensitive data, among other harms.</li>\\n<li><strong>Model decay</strong>: ML models and data pipelines are notoriously “brittle.”<a href=\"#_ftn5\"><sup>[5]</sup></a> This means unexpected input data or small changes over time in the input data or data pipeline can wreak havoc on a model’s performance.</li>\\n</ul>\\n<p>The best way to prevent and prepare for these kinds of problems is model debugging. We’ll review methods for debugging below.</p>\\n<h2>How is debugging conducted today?</h2>\\n<p>There are at least four major ways for data scientists to find bugs in ML models: sensitivity analysis, residual analysis, benchmark models, and ML security audits.</p>\\n<p>While our analysis of each method may appear technical, we believe that understanding the tools available, and how to use them, is critical for all risk management teams. Anyone, of any technical ability, should be able to at least think about using model debugging techniques.</p>\\n<h3>Sensitivity analysis</h3>\\n<p id=\"F9\">Sensitivity analysis, sometimes called <em>what-if?</em> analysis, is a mainstay of model debugging. It’s a very simple and powerful idea: simulate data that you find interesting and see what a model predicts for that data. Because ML models can react in very surprising ways to data they’ve never seen before, it’s safest to test all of your ML models with sensitivity analysis.<a href=\"#_ftn9\"><sup>[9]</sup></a> While it is relatively straightforward to conduct sensitivity analysis without a formal framework, the <a href=\"https://pair-code.github.io/what-if-tool/index.html#about\">What-If Tool</a> is a great way to start playing with certain kinds of models in the TensorFlow family. More structured approaches to sensitivity analysis include:</p>\\n<ul>\\n<li><strong>Adversarial example searches</strong>: this entails systematically searching for rows of data that evoke strange or striking responses from an ML model. Figure 1 illustrates an example adversarial search for an example credit default ML model. If you’re using Python and deep learning libraries, the <a href=\"https://github.com/tensorflow/cleverhans\">CleverHans</a> and <a href=\"https://github.com/bethgelab/foolbox\">Foolbox</a> packages can also help you debug models and find adversarial examples.</li>\\n<li><strong>Partial dependence, accumulated local effect (ALE), and individual conditional expectation (ICE) plots</strong>: this involves systematically visualizing the effects of changing one or more variables in your model. There are a ton of packages for these techniques: <a href=\"https://cran.r-project.org/web/packages/ALEPlot/index.html\">ALEPlot</a>, <a href=\"https://cran.r-project.org/web/packages/DALEX/index.html\">DALEX</a>, <a href=\"https://cran.r-project.org/web/packages/ICEbox/index.html\">ICEbox</a>, <a href=\"https://cran.r-project.org/web/packages/iml/index.html\">iml</a>, and <a href=\"https://bgreenwell.github.io/pdp/index.html\">pdp</a> in R; and <a href=\"https://github.com/SauceCat/PDPbox\">PDPbox</a> and <a href=\"https://github.com/AustinRochford/PyCEbox\">PyCEbox</a> in Python.</li>\\n<li><strong>Random attacks:</strong> exposing models to high volumes of random input data and seeing how they react. Random attacks can reveal all kinds of unexpected software and math bugs. <em>If you don’t know where to begin debugging an ML system, random attack is a great place to get started.</em></li>\\n</ul>\\n<figure class=\"center\"><img alt=\"Results from an adversarial example search\" src=\"https://www.oreilly.com/radar/wp-content/uploads/sites/3/2019/12/figure1-2.jpg\"><figcaption><em>Figure 1: Results from an adversarial example search that show low most recent (PAY_AMT1) and low second most recent (PAY_AMT2) credit card payments result in strikingly high probabilities of default according to an example credit default ML model. Currency amounts reported in Taiwan dollars. Figure courtesy of Patrick Hall and H2O.ai.</em></figcaption></figure>\\n<h3>Residual analysis</h3>\\n<p>Residual analysis is another well-known family of model debugging techniques. Residuals are a numeric measurement of model errors, essentially the difference between the model&#8217;s prediction and the known true outcome. Small residuals usually mean a model is right, and large residuals usually mean a model is wrong. Residual plots place input data and predictions into a two-dimensional visualization where influential outliers, data-quality problems, and other types of bugs often become plainly visible. The main drawback of residual analysis is that to calculate residuals, true outcomes are needed. That means it can be hard to work with residuals in some real-time model monitoring settings, but residual analysis should always be doable at model training time.</p>\\n<p id=\"F10\">Like in Figure 2, many discrimination detection techniques consider model errors as well, especially across different demographic groups. This basic bias detection exercise is sometimes called <em>disparate impact analysis</em>.<a href=\"#_ftn10\"><sup>[10]</sup></a> The Gender Shades line of research is a great example of how analyzing errors across demographic groups is necessary for models that affect people.<a href=\"#_ftn3\"><sup>[3]</sup></a> There are a myriad of other tools available for discrimination detection. To learn more about testing ML models for discrimination, check out packages like <a href=\"https://github.com/dssg/aequitas\">aequitas</a>, <a href=\"http://aif360.mybluemix.net/\">AIF360</a>, <a href=\"https://github.com/LASER-UMASS/Themis\">Themis</a>, and, more generally, the content created by the Fairness, Accountability, and Transparency in ML (FATML) community.<a href=\"#_ftn11\"><sup>[11]</sup></a></p>\\n<figure class=\"center\"><img alt=\"model discrimination\" src=\"https://d3ansictanv2wj.cloudfront.net/figure_2_hi-40b9150f5e227bea3057e51882749c1b.jpg\"><figcaption><em>Figure 2: Many types of errors analyzed across males and females for the example credit default model. While it’s a good sign that errors are similar for both males and females, this does not mean the model is free of discrimination. Figure courtesy of Patrick Hall and H2O.ai.</em></figcaption></figure>\\n<h3>Benchmark models</h3>\\n<p>Benchmark models are trusted, simple, or interpretable models to which ML models can be compared. It’s always a good idea to check that a new complex ML model does actually outperform a simpler benchmark model. Once an ML model passes this benchmark test, the benchmark model can serve as a solid debugging tool. Benchmark models can be used to ask questions like: “what predictions did my ML model get wrong that my benchmark model got right, and why?” Comparing benchmark model and ML model predictions in real time can also help to catch accuracy, fairness, or security anomalies as they occur.</p>\\n<h3>ML security audits</h3>\\n<p id=\"F12\">There are several known attacks against machine learning models that can lead to altered, harmful model outcomes or to exposure of sensitive training data.<a href=\"#_ftn8\"><sup>[8]</sup></a>,<a href=\"#_ftn12\"><sup>[12]</sup></a> Again, traditional model assessment measures don’t tell us much about whether a model is secure. In addition to other debugging steps, it may be prudent to add some or all of the known ML attacks into any white-hat hacking exercises or red-team audits an organization is already conducting.</p>\\n<h2>We found something wrong; what do we do?</h2>\\n<p>So you’ve implemented some of the systematic ways to find accuracy, fairness, and security problems in ML-based systems that we’ve discussed. You’ve even discovered a few problems with your ML model. What can you do? That’s where remediation strategies come in. We discuss seven remediation strategies below.</p>\\n<h3>Data augmentation</h3>\\n<p>ML models learn from data to become accurate, and ML models require data that’s truly representative of the entire problem space being modeled. If a model is failing, adding representative data into its training set can work wonders. Data augmentation can be a remediation strategy for discrimination in ML models, too. One major source of discrimination in ML is demographically unbalanced training data. If a model is going to be used on all kinds of people, it’s best to ensure the training data has a representative distribution of all kinds of people as well.</p>\\n<h3>Interpretable ML models and explainable ML</h3>\\n<p id=\"F13\">The debugging techniques we propose should work on almost any kind of ML-based predictive model. But they will be easier to execute on interpretable models or with explainable ML. For this reason, and others, we recommend interpretable and explainable ML for high-stakes use cases. Luckily, technological progress has been made toward this end in recent years. There are a lot of options for interpretable and accurate ML models and a lot of ways to explain and describe them.<a href=\"#_ftn13\"><sup>[13]</sup></a></p>\\n<h3>Model editing</h3>\\n<p>Some ML models are designed to be interpretable so it is possible to understand how they work. Some of these models, like variants of decision trees or <a href=\"https://github.com/microsoft/interpret\">GA2M</a> (i.e., explainable boosting machines) can be directly editable by human users. If there’s something objectionable in the inner workings of a GA2M model, it’s not very hard to find it and change the final model equation to get rid of it. Other models might not be as easy to edit as GA2M or decision trees, but if they generate human-readable computer code, they can be edited.</p>\\n<h3>Model assertions</h3>\\n<p id=\"F14\">Model assertions can improve or override model predictions in real time.<a href=\"#_ftn14\"><sup>[14]</sup></a> Model assertions are business rules that act on model predictions themselves. Examples could include checking the age of a customer to whom a model recommends advertising alcoholic beverages, or checking for large prepayments for a prediction that says a high net worth individual is about to default.</p>\\n<h3>Discrimination remediation</h3>\\n<p id=\"F15\">There are a lot of ways to fix discrimination in ML models. Many non-technological solutions involve promoting a diversity of expertise and experience on data science teams, and ensuring diverse intellects are involved in all stages of model building.<a href=\"#_ftn15\"><sup>[15]</sup></a> Organizations should, if possible, require that all important data science projects include personnel with expertise in ethics, privacy, social sciences, or other related disciplines.</p>\\n<p>From a technical perspective, discrimination remediation methods fall into three major buckets: data pre-processing, model training and selection, and prediction post-processing. For pre-processing, careful feature selection, and sampling and reweighing rows to minimize discrimination in training data can be helpful.</p>\\n<p>For model training and selection, we recommend considering fairness metrics when selecting hyperparameters and decision cutoff thresholds. This may also involve training fair models directly by learning fair representations (LFR) and adversarial debiasing in <a href=\"http://aif360.mybluemix.net/\">AIF360</a>, or using dual objective functions that consider both accuracy and fairness metrics. Last, for prediction post-processing, changing model predictions after training, like reject-option classification in <a href=\"http://aif360.mybluemix.net/\">AIF360</a> or <a href=\"https://github.com/cosmicBboy/themis-ml\">Themis ML</a>, can also help to reduce unwanted bias.</p>\\n<h3>Model monitoring</h3>\\n<p>Model debugging is not a one-and-done task. The accuracy, fairness, or security characteristics of ML models are not static. They can change significantly over time based on the model’s operating environment. We recommend monitoring ML models for accuracy, fairness, and security problems at regular time intervals once they are deployed.</p>\\n<h3>Anomaly detection</h3>\\n<p>Strange, anomalous input and prediction values are always worrisome in ML, and can be indicative of an adversarial attack on an ML model. Luckily, anomalous inputs and predictions can be caught and corrected in real time using a variety of tools and techniques: data integrity constraints on input data streams, statistical process control methodologies on inputs and predictions, anomaly detection through <a href=\"https://towardsdatascience.com/credit-card-fraud-detection-using-autoencoders-in-h2o-399cbb7ae4f1\">autoencoders</a> and <a href=\"http://docs.h2o.ai/h2o/latest-stable/h2o-docs/data-science/if.html\">isolation forests</a>, and also by comparing ML predictions to benchmark model predictions.</p>\\n<h2>Conclusion and further reading</h2>\\n<p id=\"F16\">Everyone wants trustworthy ML models. And that means that as ML is more widely adopted, the importance of model debugging will only increase over time. That holds true for everyone from Kagglers to front-line data scientists to legal and risk management personnel and for ML consumers and decision subjects. Those interested in more details can dig deeper into the code on GitHub used to create the examples in this post.<a href=\"#_ftn16\"><sup>[16]</sup></a> Or, you can learn more about model debugging in the ML research community by checking out the 2019 International Conference on Learning Representations (ICLR) Debugging Machine Learning Models workshop proceedings.<a href=\"#_ftn17\"><sup>[17]</sup></a> Hopefully some of these techniques will work for you and your team. If so, have fun debugging!</p>\\n<aside data-type=\"sidebar\">\\n<p id=\"_ftn1\">\\n<a href=\"#F1\"><sup>[1]</sup></a> “All models are wrong, but some are useful.” — George Box, Statistician (1919 &#8211; 2013)</p>\\n<p id=\"_ftn2\">\\n<a href=\"#F2\"><sup>[2]</sup></a> <a href=\"https://people.eecs.berkeley.edu/~adj/publications/paper-files/SecML-MLJ2010.pdf\"><em>The Security of Machine Learning</em></a></p>\\n<p id=\"_ftn3\">\\n<a href=\"#F2\"><sup>[3]</sup></a> <a href=\"http://gendershades.org/\">How well do IBM, Microsoft, and Face++ AI services guess the gender of a face?</a></p>\\n<p id=\"_ftn4\">\\n<a href=\"#F2\"><sup>[4]</sup></a> <a href=\"https://arxiv.org/pdf/1901.09749.pdf\"><em>Fairwashing: The Risk of Rationalization</em></a><em>, </em><a href=\"https://arxiv.org/pdf/1911.02508.pdf\"><em>How Can We Fool LIME and SHAP? Adversarial Attacks on Post-hoc Explanation Methods</em></a></p>\\n<p id=\"_ftn5\">\\n<a href=\"#F2\"><sup>[5]</sup></a> <a href=\"https://ai.google/research/pubs/pub43146\"><em class=\"link\">Machine Learning: The High Interest Credit Card of Technical Debt</em></a></p>\\n<p id=\"_ftn6\">\\n<a href=\"#F6\"><sup>[6]</sup></a> See: <a href=\"https://developers.google.com/machine-learning/testing-debugging\">Testing and Debugging Machine Learning Models</a></p>\\n<p id=\"_ftn7\">\\n<a href=\"#F7\"><sup>[7]</sup></a> See: <a href=\"https://time.com/5724098/new-york-investigating-goldman-sachs-apple-card/\">A Viral Tweet Accused Apple&#8217;s New Credit Card of Being &#8216;Sexist.&#8217; Now New York State Regulators Are Investigating</a> or <a href=\"https://www.capgemini.com/research/why-addressing-ethical-questions-in-ai-will-benefit-organizations/\">Why Addressing Ethical Questions in AI Will Benefit Organizations</a></p>\\n<p id=\"_ftn8\">\\n<a href=\"#F8\"><sup>[8]</sup></a> <a href=\"https://fpf.org/wp-content/uploads/2019/09/FPF_WarningSigns_Report.pdf\"><em>Warning Signs: The Future of Security and Privacy in an Age of Machine Learning</em></a></p>\\n<p id=\"_ftn9\">\\n<a href=\"#F9\"><sup>[9]</sup></a> See: <a href=\"http://www.vias.org/tmdatanaleng/cc_ann_extrapolation.html\">Teach/Me Data Analysis</a></p>\\n<p id=\"_ftn10\">\\n<a href=\"#F10\"><sup>[10]</sup></a> For a technical analysis, see <a href=\"http://sorelle.friedler.net/papers/kdd_disparate_impact.pdf\"><em>Certifying and Removing Disparate Impact</em></a>.</p>\\n<p id=\"_ftn11\">\\n<a href=\"#F10\"><sup>[11]</sup></a> <a href=\"https://www.fatml.org/\">Fairness, Accountability, and Transparency in Machine Learning</a></p>\\n<p id=\"_ftn12\">\\n<a href=\"#F12\"><sup>[12]</sup></a> <a href=\"https://www.oreilly.com/ideas/proposals-for-model-vulnerability-and-security\"><em>Proposals for Model Vulnerability and Security</em></a></p>\\n<p id=\"_ftn13\">\\n<a href=\"#F13\"><sup>[13]</sup></a> <a href=\"https://www.h2o.ai/oreilly-mli-booklet-2019/\"><em>An Introduction to Machine Learning Interpretability</em></a></p>\\n<p id=\"_ftn14\">\\n<a href=\"#F14\"><sup>[14]</sup></a> <a href=\"https://cs.stanford.edu/~matei/papers/2018/mlsys_model_assertions.pdf\"><em>Model Assertions for Debugging Machine Learning</em></a></p>\\n<p id=\"_ftn15\">\\n<a href=\"#F15\"><sup>[15]</sup></a> <a href=\"https://fpf.org/wp-content/uploads/2018/06/Beyond-Explainability.pdf\"><em>Beyond Explainability: A Practical Guide to Managing Risk in Machine Learning Models</em></a></p>\\n<p id=\"_ftn16\">\\n<a href=\"#F16\"><sup>[16]</sup></a> <a href=\"https://github.com/jphall663/interpretable_machine_learning_with_python\">Interpretable Machine Learning with Python</a></p>\\n<p id=\"_ftn17\">\\n<a href=\"#F16\"><sup>[17]</sup></a> <a href=\"https://debug-ml-iclr2019.github.io/\">Debugging Machine Learning Models</a></p>\\n</aside>\\n<img src=\"http://feeds.feedburner.com/~r/oreilly/radar/atom/~4/rqjZCS-gpkQ\" height=\"1\" width=\"1\" alt=\"\"/>'}], 'wfw_commentrss': 'https://www.oreilly.com/radar/why-you-should-care-about-debugging-machine-learning-models/feed/', 'slash_comments': '0', 'feedburner_origlink': 'https://www.oreilly.com/radar/why-you-should-care-about-debugging-machine-learning-models/'}, {'title': 'Four short links: 12 December 2019', 'title_detail': {'type': 'text/plain', 'language': None, 'base': 'http://feeds.feedburner.com/oreilly/radar/atom', 'value': 'Four short links: 12 December 2019'}, 'links': [{'rel': 'alternate', 'type': 'text/html', 'href': 'http://feedproxy.google.com/~r/oreilly/radar/atom/~3/cMr0VBDAl3U/'}], 'link': 'http://feedproxy.google.com/~r/oreilly/radar/atom/~3/cMr0VBDAl3U/', 'comments': 'https://www.oreilly.com/radar/four-short-links-12-december-2019/#respond', 'published': 'Thu, 12 Dec 2019 05:01:00 +0000', 'published_parsed': time.struct_time(tm_year=2019, tm_mon=12, tm_mday=12, tm_hour=5, tm_min=1, tm_sec=0, tm_wday=3, tm_yday=346, tm_isdst=0), 'authors': [{'name': 'Nat Torkington'}], 'author': 'Nat Torkington', 'author_detail': {'name': 'Nat Torkington'}, 'tags': [{'term': 'Four Short Links', 'scheme': None, 'label': None}, {'term': 'Signals', 'scheme': None, 'label': None}], 'id': 'https://www.oreilly.com/radar/?p=11251', 'guidislink': False, 'summary': 'Social Science One Advisory Group Fingers Facebook &#8212; As members of the European Advisory Committee of Social Science One, we—along with the co-chairs—are frustrated. On the one hand, we were genuinely interested in helping to build a model to support academic research, and we appreciate the efforts the specific data science teams within Facebook have [&#8230;]', 'summary_detail': {'type': 'text/html', 'language': None, 'base': 'http://feeds.feedburner.com/oreilly/radar/atom', 'value': 'Social Science One Advisory Group Fingers Facebook &#8212; As members of the European Advisory Committee of Social Science One, we—along with the co-chairs—are frustrated. On the one hand, we were genuinely interested in helping to build a model to support academic research, and we appreciate the efforts the specific data science teams within Facebook have [&#8230;]'}, 'content': [{'type': 'text/html', 'language': None, 'base': 'http://feeds.feedburner.com/oreilly/radar/atom', 'value': '<ol><li><a href=\"https://socialscience.one/blog/public-statement-european-advisory-committee-social-science-one\">Social Science One Advisory Group Fingers Facebook</a> &#8212; <em>As members of the European Advisory Committee of Social Science One, we—along with the co-chairs—are frustrated. On the one hand, we were genuinely interested in helping to build a model to support academic research, and we appreciate the efforts the specific data science teams within Facebook have made to this end. On the other hand, the eternal delays and barriers from both within and beyond the company lead us to doubt whether substantial progress can be made, at least under the current model.</em> Their proposed next steps would be excellent.</li><li><a href=\"https://amontalenti.com/2019/11/04/work-is-a-queue-of-queues\">Work is a Queue of Queues</a> &#8212; <em>The ideal situation would be that once you’ve decided to work on a given queue, as an individual or a team, all the stack-based workflows would shift from push()’ing onto your stack and gaining your attention, to merely enqueue()’ing onto your backlog queue to get your ordered attention at a later date.</em> Abstractions for productivity hack fetishists.</li><li><a href=\"https://anildash.com/2019/12/10/link-in-bio-is-how-they-tried-to-kill-the-web/\">The Power of Links</a> (Anil Dash) &#8212; <em>For a closed system, those kinds of open connections are deeply dangerous. If anyone on Instagram can just link to any old store on the web, how can Instagram—meaning Facebook, Instagram’s increasingly overbearing owner—tightly control commerce on its platform? If Instagram users could post links willy-nilly, they might even be able to connect directly to their users, getting their email addresses or finding other ways to communicate with them. Links represent a threat to closed systems.</em></li><li><a href=\"https://github.com/alyssaxuu/flowy\">Flowy</a> &#8212; flowcharts in JavaScript.</li></ol>\\n<img src=\"http://feeds.feedburner.com/~r/oreilly/radar/atom/~4/cMr0VBDAl3U\" height=\"1\" width=\"1\" alt=\"\"/>'}], 'wfw_commentrss': 'https://www.oreilly.com/radar/four-short-links-12-december-2019/feed/', 'slash_comments': '0', 'feedburner_origlink': 'https://www.oreilly.com/radar/four-short-links-12-december-2019/'}, {'title': 'Four short links: 11 December 2019', 'title_detail': {'type': 'text/plain', 'language': None, 'base': 'http://feeds.feedburner.com/oreilly/radar/atom', 'value': 'Four short links: 11 December 2019'}, 'links': [{'rel': 'alternate', 'type': 'text/html', 'href': 'http://feedproxy.google.com/~r/oreilly/radar/atom/~3/YspNpRZ_29c/'}], 'link': 'http://feedproxy.google.com/~r/oreilly/radar/atom/~3/YspNpRZ_29c/', 'comments': 'https://www.oreilly.com/radar/four-short-links-11-december-2019/#respond', 'published': 'Wed, 11 Dec 2019 05:01:00 +0000', 'published_parsed': time.struct_time(tm_year=2019, tm_mon=12, tm_mday=11, tm_hour=5, tm_min=1, tm_sec=0, tm_wday=2, tm_yday=345, tm_isdst=0), 'authors': [{'name': 'Nat Torkington'}], 'author': 'Nat Torkington', 'author_detail': {'name': 'Nat Torkington'}, 'tags': [{'term': 'Four Short Links', 'scheme': None, 'label': None}, {'term': 'Signals', 'scheme': None, 'label': None}], 'id': 'https://www.oreilly.com/radar/?p=11222', 'guidislink': False, 'summary': 'disaster.radio &#8212; a disaster-resilient communications network powered by the sun. More specifically, a solar-powered LoRa-connected box running Scuttlebutt and other software. Still a WIP. I&#8217;m not sure about the choice of LoRa, though—the throughput isn&#8217;t great. Powered Exoskeleton (IEEE Spectrum) &#8212; and the demo heavy object to carry is a missile. Of course. The Road [&#8230;]', 'summary_detail': {'type': 'text/html', 'language': None, 'base': 'http://feeds.feedburner.com/oreilly/radar/atom', 'value': 'disaster.radio &#8212; a disaster-resilient communications network powered by the sun. More specifically, a solar-powered LoRa-connected box running Scuttlebutt and other software. Still a WIP. I&#8217;m not sure about the choice of LoRa, though—the throughput isn&#8217;t great. Powered Exoskeleton (IEEE Spectrum) &#8212; and the demo heavy object to carry is a missile. Of course. The Road [&#8230;]'}, 'content': [{'type': 'text/html', 'language': None, 'base': 'http://feeds.feedburner.com/oreilly/radar/atom', 'value': '<ol><li><a href=\"https://disaster.radio/\">disaster.radio</a> &#8212; <em>a disaster-resilient communications network powered by the sun</em>. More specifically, a solar-powered LoRa-connected box running Scuttlebutt and other software. Still a WIP. I&#8217;m not sure about the choice of LoRa, though—the throughput isn&#8217;t great.</li><li><a href=\"https://spectrum.ieee.org/automaton/robotics/industrial-robots/sarcos-guardian-xo-powered-exoskeleton\">Powered Exoskeleton</a> (IEEE Spectrum) &#8212; and the demo heavy object to carry is a missile. Of course.</li><li><a href=\"https://www.oreilly.com/radar/the-road-to-software-2-0/\">The Road to Software 2.0</a> &#8212; the idea that software&#8217;s going to profoundly change how we develop software. <em>Most companies don’t have the AI expertise to implement Karpathy’s vision. Traditional programming is well understood. Training models isn’t well understood yet, at least not within companies that haven’t already invested significantly in technology (in general) or AI (in particular). Nor are building data pipelines and deploying ML systems well understood. The companies that are systematizing how they develop ML and AI applications are companies that already have advanced AI practices.</em></li><li><a href=\"https://navigator.oii.ox.ac.uk/\">The ComProp Navigator</a> (Oxford University) &#8212; <em>an online resource guide for civil society groups looking to better deal with the problem of disinformation.</em></li></ol>\\n<img src=\"http://feeds.feedburner.com/~r/oreilly/radar/atom/~4/YspNpRZ_29c\" height=\"1\" width=\"1\" alt=\"\"/>'}], 'wfw_commentrss': 'https://www.oreilly.com/radar/four-short-links-11-december-2019/feed/', 'slash_comments': '0', 'feedburner_origlink': 'https://www.oreilly.com/radar/four-short-links-11-december-2019/'}, {'title': 'The road to Software 2.0', 'title_detail': {'type': 'text/plain', 'language': None, 'base': 'http://feeds.feedburner.com/oreilly/radar/atom', 'value': 'The road to Software 2.0'}, 'links': [{'rel': 'alternate', 'type': 'text/html', 'href': 'http://feedproxy.google.com/~r/oreilly/radar/atom/~3/nbtg4a0T0UI/'}], 'link': 'http://feedproxy.google.com/~r/oreilly/radar/atom/~3/nbtg4a0T0UI/', 'comments': 'https://www.oreilly.com/radar/the-road-to-software-2-0/#respond', 'published': 'Tue, 10 Dec 2019 11:00:00 +0000', 'published_parsed': time.struct_time(tm_year=2019, tm_mon=12, tm_mday=10, tm_hour=11, tm_min=0, tm_sec=0, tm_wday=1, tm_yday=344, tm_isdst=0), 'authors': [{'name': 'Mike Loukides and Ben Lorica'}], 'author': 'Mike Loukides and Ben Lorica', 'author_detail': {'name': 'Mike Loukides and Ben Lorica'}, 'tags': [{'term': 'AI & ML', 'scheme': None, 'label': None}, {'term': 'Software Engineering', 'scheme': None, 'label': None}, {'term': 'Deep Dive', 'scheme': None, 'label': None}], 'id': 'https://www.oreilly.com/radar/?p=11155', 'guidislink': False, 'summary': 'Roughly a year ago, we wrote “What machine learning means for software development.” In that article, we talked about Andrej Karpathy’s concept of Software 2.0. Karpathy argues that we’re at the beginning of a profound change in the way software is developed. Up until now, we’ve built systems by carefully and painstakingly telling systems exactly [&#8230;]', 'summary_detail': {'type': 'text/html', 'language': None, 'base': 'http://feeds.feedburner.com/oreilly/radar/atom', 'value': 'Roughly a year ago, we wrote “What machine learning means for software development.” In that article, we talked about Andrej Karpathy’s concept of Software 2.0. Karpathy argues that we’re at the beginning of a profound change in the way software is developed. Up until now, we’ve built systems by carefully and painstakingly telling systems exactly [&#8230;]'}, 'content': [{'type': 'text/html', 'language': None, 'base': 'http://feeds.feedburner.com/oreilly/radar/atom', 'value': '<p>Roughly a year ago, we wrote “<a href=\"https://www.oreilly.com/radar/what-machine-learning-means-for-software-development/\">What machine learning means for software development</a>.” In that article, we talked about Andrej Karpathy’s concept of <a href=\"https://medium.com/@karpathy/software-2-0-a64152b37c35\">Software 2.0</a>. Karpathy argues that we’re at the beginning of a profound change in the way software is developed. Up until now, we’ve built systems by carefully and painstakingly telling systems exactly what to do, instruction by instruction. The process is slow, tedious, and error-prone; most of us have spent days staring at a program that should work, but doesn’t. And most of us have been surprised when some program that has been reliable for some time suddenly screws up at some slightly unexpected input. The last bug is always the one you find next; if someone hasn’t already said that, someone should have.</p>\\n\\n\\n\\n<p>Karpathy suggests something radically different: with machine learning, we can stop thinking of programming as writing a step of instructions in a programming language like C or Java or Python. Instead, we can program by example. We can collect many examples of what we want the program to do and what not to do (examples of correct and incorrect behavior), label them appropriately, and train a model to perform correctly on new inputs. In short, we can use machine learning to automate software development itself.</p>\\n\\n\\n\\n<p>It’s time to evaluate what has happened in the year since we wrote that article. Are we seeing the first steps toward the adoption of Software 2.0? Yes, but so far, they’re only small steps. Most companies don’t have the AI expertise to implement Karpathy’s vision. Traditional programming is well understood. Training models isn’t well understood yet, at least not within companies that haven’t already invested significantly in technology (in general) or AI (in particular). Nor are building data pipelines and deploying ML systems well understood. The companies that are systematizing how they develop ML and AI applications are companies that already have advanced AI practices.</p>\\n\\n\\n\\n<p>That doesn’t mean we aren’t seeing tools to automate various aspects of software engineering and data science. Those tools are starting to appear, particularly for building deep learning models. We’re seeing continued adoption of tools like AWS’ <a href=\"https://aws.amazon.com/sagemaker/\">Sagemaker</a> and Google’s <a href=\"https://cloud.google.com/automl/\">AutoML</a>. <a href=\"https://techcrunch.com/2018/01/17/googles-automl-lets-you-train-custom-machine-learning-models-without-having-to-code/\">AutoML Vision</a> allows you to build models without having to code; we’re also seeing code-free model building from <a href=\"https://www.theverge.com/2018/6/12/17452742/deep-learning-ai-learn-lobe-made-easy-coding\">startups</a> like <a href=\"https://mljar.com/\">MLJAR</a> and <a href=\"https://lobe.ai/\">Lobe</a>, and tools focused on computer vision, such as <a href=\"https://platform.ai/\">Platform.ai</a> and <a href=\"https://www.matroid.com/\">Matroid</a>. A sign that companies are scaling up their usage of ML and AI is that we are seeing the rise of data platforms aimed at accelerating the development and deployment of ML within companies that are growing teams focused on machine learning and AI. Several leaders in AI have described platforms they’ve built internally (such as Uber’s <a href=\"https://eng.uber.com/michelangelo/\">Michelangelo</a>, Facebook’s <a href=\"https://engineering.fb.com/core-data/introducing-fblearner-flow-facebook-s-ai-backbone/\">FBLearner</a>, Twitter’s <a href=\"https://cortex.twitter.com/\">Cortex</a>, and Apple’s <a href=\"https://arxiv.org/pdf/1909.05372.pdf\">Overton</a>); these companies are having an influence on other companies that are starting to build their own tools. Companies like <a href=\"https://databricks.com/\">Databricks</a> are building Software as a Service (SaaS) or on-premises tools for companies that aren’t ready to build their own platform.</p>\\n\\n\\n\\n<p>We’ve also seen (and featured at O’Reilly’s AI Conference) <a href=\"https://www.snorkel.org/\">Snorkel</a>, an ML-driven tool for automated data labeling and synthetic data generation. <a href=\"http://www.holoclean.io/\">HoloClean</a>, another tool developed by researchers from Stanford, Waterloo, and Wisconsin, undertakes automatic error detection and repair. As Chris Ré <a href=\"https://learning.oreilly.com/videos/artificial-intelligence-conference/9781492050544/9781492050544-video324795\">said at our conference</a>, we’ve made a lot of progress in automating data collection and model generation; but labeling and cleaning data have stubbornly resisted automation. At O’Reilly’s AI Conference in Beijing, Tim Kraska of MIT <a href=\"https://learning.oreilly.com/videos/artificial-intelligence-conference/9781492050629/9781492050629-video325736\">discussed</a> how machine learning models have out-performed standard, well-known algorithms for database optimization, disk storage optimization, basic data structures, and even process scheduling. The hand-crafted algorithms you learned in school may cease to be relevant, because AI can do better. Rather than learning about sorting and indexing, the next generation of programmers may learn how to apply machine learning to these problems.</p>\\n\\n\\n\\n<p>One of the most suggestive projects we’ve seen has been <a href=\"https://www.oreilly.com/radar/riselabs-autopandas-hints-at-automation-tech-that-will-change-the-nature-of-software-development/\">RISE Lab’s</a> <a href=\"https://autopandas.io/\">AutoPandas</a>. Given a set of inputs, and the outputs those inputs should produce, AutoPandas generates a program based on those inputs and outputs. This “programming by example” is an exciting step toward Software 2.0.</p>\\n\\n\\n\\n<p>What are the biggest obstacles to adoption? The same set of problems that AI and ML are facing everywhere else (and that, honestly, every new technology faces): lack of skilled people, trouble finding the right use cases, and the difficulty of finding data. That’s one reason Software 2.0 is having the greatest influence on data science: that’s where the skilled people are. Those are the same people who know how to collect and preprocess data, and who know how to define problems that can realistically be solved by ML systems. With AutoPandas, and automated tools for optimizing database queries, we’re just starting to see AI tools that are aimed at software developers.</p>\\n\\n\\n\\n<p>Machine learning also comes with certain <a href=\"https://www.oreilly.com/radar/managing-risk-in-machine-learning/\">risks</a>, and many businesses may not be willing to accept those risks. Traditional programming is by no means risk-free, but at least those risks are familiar. Machine learning raises the question of explainability. You may not be able to explain why your software does what it does, and there are many application domains (for example, medicine and law) where explainability is essential. Reliability is also a problem: it’s not possible to build a machine learning system that is 100% accurate. If you train a system to manage inventory, how many of that system’s decisions will be incorrect? It might make fewer errors than a human, but we’re more comfortable with the kinds of errors humans make. We’re only starting to understand the <a href=\"https://learning.oreilly.com/library/view/strengthening-deep-neural/9781492044949/\">security</a> implications of machine learning, and wherever data is involved, privacy questions are almost certain to follow. Understanding and addressing the risks of ML and AI will require cross-functional teams; these teams need to encompass not only people with different kinds of expertise (security, privacy, compliance, ethics, design, and domain expertise), but also people from different social and cultural backgrounds. Risks that one socio-cultural group accepts without thinking twice are often completely unacceptable to those with different backgrounds; think, for example, what the use of face identification means to people in Hong Kong.</p>\\n\\n\\n\\n<p>These problems, though, are solvable. <a href=\"https://www.oreilly.com/radar/what-are-model-governance-and-model-operations/\">Model governance, model operations</a>, <a href=\"https://www.oreilly.com/radar/sustaining-machine-learning-in-the-enterprise/\">data provenance, and data lineage</a> are becoming hot topics for people and organizations that are implementing AI solutions. Understanding where your data comes from and how it has been modified, along with understanding how your models are evolving over time, is a critical step in addressing safety. Governance and provenance will become even more important as data use becomes subject to regulation; and we’re starting to see data-driven businesses <a href=\"https://www.oreilly.com/radar/managing-machine-learning-in-the-enterprise-lessons-from-banking-and-health-care/\">follow the lead of companies in highly regulated industries</a>, such as banking and health care.</p>\\n\\n\\n\\n<p>We are at the edge of a revolution in how we build software. How far will that revolution extend? We don’t know; it’s hard to imagine AI systems designing good user interfaces for humans–though once designed, it’s easy to imagine AI building those interfaces. Nor is it easy to imagine AI systems designing good APIs for programmatic access to applications. But it’s clear that AI can and will have a big influence on how we develop software. Perhaps the biggest change won’t be a reduction in the need for programmers, but in freeing programmers to think more about what we’re doing, and why. What are the right problems to solve? How do we create software that’s useful to everyone? That’s ultimately a more important problem than building yet another online shopping app. And if Software 2.0 lets us pay more attention to those questions, it will be a revolution that’s truly worthwhile.<br></p>\\n<img src=\"http://feeds.feedburner.com/~r/oreilly/radar/atom/~4/nbtg4a0T0UI\" height=\"1\" width=\"1\" alt=\"\"/>'}], 'wfw_commentrss': 'https://www.oreilly.com/radar/the-road-to-software-2-0/feed/', 'slash_comments': '0', 'feedburner_origlink': 'https://www.oreilly.com/radar/the-road-to-software-2-0/'}, {'title': 'Four short links: 10 December 2019', 'title_detail': {'type': 'text/plain', 'language': None, 'base': 'http://feeds.feedburner.com/oreilly/radar/atom', 'value': 'Four short links: 10 December 2019'}, 'links': [{'rel': 'alternate', 'type': 'text/html', 'href': 'http://feedproxy.google.com/~r/oreilly/radar/atom/~3/J8hN_h1ZiOo/'}], 'link': 'http://feedproxy.google.com/~r/oreilly/radar/atom/~3/J8hN_h1ZiOo/', 'comments': 'https://www.oreilly.com/radar/four-short-links-10-december-2019/#respond', 'published': 'Tue, 10 Dec 2019 05:01:00 +0000', 'published_parsed': time.struct_time(tm_year=2019, tm_mon=12, tm_mday=10, tm_hour=5, tm_min=1, tm_sec=0, tm_wday=1, tm_yday=344, tm_isdst=0), 'authors': [{'name': 'Nat Torkington'}], 'author': 'Nat Torkington', 'author_detail': {'name': 'Nat Torkington'}, 'tags': [{'term': 'Four Short Links', 'scheme': None, 'label': None}, {'term': 'Signals', 'scheme': None, 'label': None}], 'id': 'https://www.oreilly.com/radar/?p=11192', 'guidislink': False, 'summary': 'The Hidden Worries of Facial Recognition Technology &#8212; excellent post by Tsinghua Professor Lao Dongyan, questioning Chinese authorities&#8217; plans to put facial recognition into the Beijing subway, with some great rebuttals to common objections. First, some people may think that I am overthinking it, and I cannot appreciate and thank the government, as a father [&#8230;]', 'summary_detail': {'type': 'text/html', 'language': None, 'base': 'http://feeds.feedburner.com/oreilly/radar/atom', 'value': 'The Hidden Worries of Facial Recognition Technology &#8212; excellent post by Tsinghua Professor Lao Dongyan, questioning Chinese authorities&#8217; plans to put facial recognition into the Beijing subway, with some great rebuttals to common objections. First, some people may think that I am overthinking it, and I cannot appreciate and thank the government, as a father [&#8230;]'}, 'content': [{'type': 'text/html', 'language': None, 'base': 'http://feeds.feedburner.com/oreilly/radar/atom', 'value': '<ol><li><a href=\"https://docs.google.com/document/d/18L4FuiUjGN5Y2j_4-VnYi2U116KWEIaG4pxVp78x-ss/edit#\">The Hidden Worries of Facial Recognition Technology</a> &#8212; excellent post by Tsinghua Professor Lao Dongyan, questioning Chinese authorities&#8217; plans to put facial recognition into the Beijing subway, with some great rebuttals to common objections. <em>First, some people may think that I am overthinking it, and I cannot appreciate and thank the government, as a father figure, for its protection and kindness. I can only say: forgive me, but I cannot accept this type of kindness.</em></li><li><a href=\"https://stratechery.com/2019/a-framework-for-regulating-competition-on-the-internet/\">A Framework for Regulating Competition on the Internet</a> (Ben Thompson) &#8212; an interesting framework, where regulators and aggregators are differentiated. <em>Platforms are the most powerful economic and innovation engines in technology: they create the possibility for products that never existed previously and are the foundation for huge amounts of innovation. It is in the interest of society that there be more and larger platforms, not fewer and smaller. [&#8230; For aggregators,] regulatory priorities should be the opposite of platforms: given that aggregator power comes from controlling demand, regulators should look at the acquisition of other potential aggregators with extreme skepticism. At the same time, whatever an aggregator chooses to do on its own site or app is less important, because users and third parties can always go elsewhere, and if they don’t, that is because they are satisfied.</em></li><li><a href=\"https://docs.microsoft.com/en-us/security/failure-modes-in-machine-learning\">Failure Modes in Machine Learning</a> (Microsoft) &#8212; excellent round up of intentional failures (perturbation attack, poisoning attack, model inversion, membership inference, model stealing, reprogramming ML system, adversarial example in the physical domain, malicious ML provider recovering training data, attacking the ML supply chain, backdoor ML, and exploit software dependencies) and unintentional failures (reward hacking, side effects, distributional shifts, natural adversarial examples, common corruption, and incomplete testing). (via <a href=\"https://boingboing.net/2019/12/09/reward-hacking.html\">BoingBoing</a>)</li><li><a href=\"https://randomascii.wordpress.com/2019/12/08/on2-again-now-in-wmi/\">O(n^2)</a> (Bruce Dawson)&#8211; <em>Dawson’s first law of computing: O(n^2) is the sweet spot of badly scaling algorithms: fast enough to make it into production, but slow enough to make things fall down once it gets there.</em> [After some debugging work,] <em>I found that WinMgmt.exe was executing roughly a branch instruction per cycle which meant that the loop (which I already knew was consuming most of the CPU time) was running extremely quickly, and the slowness was because it was executing hundreds of billions of times.</em></li></ol>\\n<img src=\"http://feeds.feedburner.com/~r/oreilly/radar/atom/~4/J8hN_h1ZiOo\" height=\"1\" width=\"1\" alt=\"\"/>'}], 'wfw_commentrss': 'https://www.oreilly.com/radar/four-short-links-10-december-2019/feed/', 'slash_comments': '0', 'feedburner_origlink': 'https://www.oreilly.com/radar/four-short-links-10-december-2019/'}, {'title': 'Four short links: 9 December 2019', 'title_detail': {'type': 'text/plain', 'language': None, 'base': 'http://feeds.feedburner.com/oreilly/radar/atom', 'value': 'Four short links: 9 December 2019'}, 'links': [{'rel': 'alternate', 'type': 'text/html', 'href': 'http://feedproxy.google.com/~r/oreilly/radar/atom/~3/9brHkJ-0XOk/'}], 'link': 'http://feedproxy.google.com/~r/oreilly/radar/atom/~3/9brHkJ-0XOk/', 'comments': 'https://www.oreilly.com/radar/four-short-links-9-december-2019/#respond', 'published': 'Mon, 09 Dec 2019 05:01:00 +0000', 'published_parsed': time.struct_time(tm_year=2019, tm_mon=12, tm_mday=9, tm_hour=5, tm_min=1, tm_sec=0, tm_wday=0, tm_yday=343, tm_isdst=0), 'authors': [{'name': 'Nat Torkington'}], 'author': 'Nat Torkington', 'author_detail': {'name': 'Nat Torkington'}, 'tags': [{'term': 'Four Short Links', 'scheme': None, 'label': None}, {'term': 'Signals', 'scheme': None, 'label': None}], 'id': 'https://www.oreilly.com/radar/?p=11151', 'guidislink': False, 'summary': 'Learning from Incidents &#8212; super useful articles on doing what it says on the box. (via duckalini) Say Goodbye to the 10-digit ISBN &#8212; ISBNs started out using a 10-digit number, but later transitioned to 13-digit numbers as the supply of unused numbers ran low. It has been standard up to this point to have [&#8230;]', 'summary_detail': {'type': 'text/html', 'language': None, 'base': 'http://feeds.feedburner.com/oreilly/radar/atom', 'value': 'Learning from Incidents &#8212; super useful articles on doing what it says on the box. (via duckalini) Say Goodbye to the 10-digit ISBN &#8212; ISBNs started out using a 10-digit number, but later transitioned to 13-digit numbers as the supply of unused numbers ran low. It has been standard up to this point to have [&#8230;]'}, 'content': [{'type': 'text/html', 'language': None, 'base': 'http://feeds.feedburner.com/oreilly/radar/atom', 'value': '<ol><li><a href=\"https://www.learningfromincidents.io/\">Learning from Incidents</a> &#8212; super useful articles on doing what it says on the box. (via <a href=\"https://twitter.com/duckalini/status/1203849622302511104\">duckalini</a>)</li><li><a href=\"https://the-digital-reader.com/2019/12/03/say-good-bye-to-the-ten-digit-isbn/\">Say Goodbye to the 10-digit ISBN</a> &#8212; <em>ISBNs started out using a 10-digit number, but later transitioned to 13-digit numbers as the supply of unused numbers ran low. It has been standard up to this point to have a 10-digital ISBN that corresponded to the 13-digit ISBN [by prefixing it with 978], but the BISG reports that practice will be going away with the adoption of the 979 prefix.</em> Parallels to &#8220;just put 19 on the front of the year&#8221; left as exercise to the reader.</li><li><a href=\"https://boingboing.net/2019/12/06/rip-social-darwinism.html\">RIP Social Darwinism</a> (Cory Doctorow) &#8212; <em>Prisoner&#8217;s Dilemma games are often cited as evidence of intrinsic selfishness, but what if it turns out that telling people that selfishness is OK is why they behave selfishly, whereas a normative statement of solidarity turns that on its head?</em></li><li><a href=\"https://mobile.twitter.com/iamwithnail/status/1052300832371351553\">Load-bearing Skeletons</a> &#8212; a phrase that will stick with you.</li></ol>\\n<img src=\"http://feeds.feedburner.com/~r/oreilly/radar/atom/~4/9brHkJ-0XOk\" height=\"1\" width=\"1\" alt=\"\"/>'}], 'wfw_commentrss': 'https://www.oreilly.com/radar/four-short-links-9-december-2019/feed/', 'slash_comments': '0', 'feedburner_origlink': 'https://www.oreilly.com/radar/four-short-links-9-december-2019/'}, {'title': 'Four short links: 6 December 2019', 'title_detail': {'type': 'text/plain', 'language': None, 'base': 'http://feeds.feedburner.com/oreilly/radar/atom', 'value': 'Four short links: 6 December 2019'}, 'links': [{'rel': 'alternate', 'type': 'text/html', 'href': 'http://feedproxy.google.com/~r/oreilly/radar/atom/~3/2tWwXYPaQQc/'}], 'link': 'http://feedproxy.google.com/~r/oreilly/radar/atom/~3/2tWwXYPaQQc/', 'comments': 'https://www.oreilly.com/radar/four-short-links-6-december-2019/#respond', 'published': 'Fri, 06 Dec 2019 05:01:00 +0000', 'published_parsed': time.struct_time(tm_year=2019, tm_mon=12, tm_mday=6, tm_hour=5, tm_min=1, tm_sec=0, tm_wday=4, tm_yday=340, tm_isdst=0), 'authors': [{'name': 'Nat Torkington'}], 'author': 'Nat Torkington', 'author_detail': {'name': 'Nat Torkington'}, 'tags': [{'term': 'Four Short Links', 'scheme': None, 'label': None}, {'term': 'Signals', 'scheme': None, 'label': None}], 'id': 'https://www.oreilly.com/radar/?p=11147', 'guidislink': False, 'summary': 'Declarative Assembly of Web Applications From Predefined Concepts &#8212; To build an app, the developer imports concepts from the catalog, tunes them to fit the application’s particular needs via configuration variables, and links concept components together to create pages. Components of different concepts may be executed independently, or bound together declaratively with dataflows and synchronization. [&#8230;]', 'summary_detail': {'type': 'text/html', 'language': None, 'base': 'http://feeds.feedburner.com/oreilly/radar/atom', 'value': 'Declarative Assembly of Web Applications From Predefined Concepts &#8212; To build an app, the developer imports concepts from the catalog, tunes them to fit the application’s particular needs via configuration variables, and links concept components together to create pages. Components of different concepts may be executed independently, or bound together declaratively with dataflows and synchronization. [&#8230;]'}, 'content': [{'type': 'text/html', 'language': None, 'base': 'http://feeds.feedburner.com/oreilly/radar/atom', 'value': '<ol><li><a href=\"https://spderosso.github.io/onward19.pdf\">Declarative Assembly of Web Applications From Predefined Concepts</a> &#8212; <em>To build an app, the developer imports concepts from the catalog, tunes them to fit the application’s particular needs via configuration variables, and links concept components together to create pages. Components of different concepts may be executed independently, or bound together declaratively with dataflows and synchronization. The instantiation, configuration, linking, and binding of components is all expressed in a simple template language that extends HTML.</em> (via <a href=\"https://blog.acolyer.org/2019/12/04/declarative-assembly-of-web-applications-from-pre-defined-concepts/\">Morning Paper</a>)</li><li><a href=\"http://www.globalnerdy.com/2019/08/22/robert-c-uncle-bob-martin-the-future-of-programming-2019-edition/\">Programmers and Experience</a> &#8212; <em>Uncle Bob’s rough estimate of the number of programmers doubling every five years has a necessary consequence: it means that half the programmers out there have less than five years’ experience.</em> That sentence blew my mind.</li><li><a href=\"https://www.econstor.eu/bitstream/10419/20544/1/dp1278.pdf\">The Commuting Paradox</a> &#8212; 2004 paper that finds <em>people with longer commuting time report systematically lower subjective well-being</em>. Something I feel acutely. Interestingly, the <a href=\"https://news.ycombinator.com/item?id=21713758\">Hacker News comments</a> have stories from people who feel invigorated by their commute.</li><li><a href=\"https://aws.amazon.com/builders-library/\">Amazon Builders Library</a> &#8212; a lot of great documentation on <em>how Amazon builds and operates software</em>.</li></ol>\\n<img src=\"http://feeds.feedburner.com/~r/oreilly/radar/atom/~4/2tWwXYPaQQc\" height=\"1\" width=\"1\" alt=\"\"/>'}], 'wfw_commentrss': 'https://www.oreilly.com/radar/four-short-links-6-december-2019/feed/', 'slash_comments': '0', 'feedburner_origlink': 'https://www.oreilly.com/radar/four-short-links-6-december-2019/'}, {'title': 'Radar trends to watch: December 2019', 'title_detail': {'type': 'text/plain', 'language': None, 'base': 'http://feeds.feedburner.com/oreilly/radar/atom', 'value': 'Radar trends to watch: December 2019'}, 'links': [{'rel': 'alternate', 'type': 'text/html', 'href': 'http://feedproxy.google.com/~r/oreilly/radar/atom/~3/TvZqwwslBkc/'}], 'link': 'http://feedproxy.google.com/~r/oreilly/radar/atom/~3/TvZqwwslBkc/', 'comments': 'https://www.oreilly.com/radar/radar-trends-to-watch-december-2019/#respond', 'published': 'Thu, 05 Dec 2019 12:00:00 +0000', 'published_parsed': time.struct_time(tm_year=2019, tm_mon=12, tm_mday=5, tm_hour=12, tm_min=0, tm_sec=0, tm_wday=3, tm_yday=339, tm_isdst=0), 'authors': [{'name': 'Mike Loukides'}], 'author': 'Mike Loukides', 'author_detail': {'name': 'Mike Loukides'}, 'tags': [{'term': 'Radar Trends', 'scheme': None, 'label': None}, {'term': 'Commentary', 'scheme': None, 'label': None}, {'term': 'Signals', 'scheme': None, 'label': None}], 'id': 'https://www.oreilly.com/radar/?p=11118', 'guidislink': False, 'summary': 'Privacy and security trends DNS over HTTPS is rolling out in all major browsers. This is important. Although there are some security concerns, and opposition from ISPs, DNS over HTTPS makes it much more difficult for ISPs (and others) to track and resell your internet usage habits. The ISPs had this coming. (Will they block [&#8230;]', 'summary_detail': {'type': 'text/html', 'language': None, 'base': 'http://feeds.feedburner.com/oreilly/radar/atom', 'value': 'Privacy and security trends DNS over HTTPS is rolling out in all major browsers. This is important. Although there are some security concerns, and opposition from ISPs, DNS over HTTPS makes it much more difficult for ISPs (and others) to track and resell your internet usage habits. The ISPs had this coming. (Will they block [&#8230;]'}, 'content': [{'type': 'text/html', 'language': None, 'base': 'http://feeds.feedburner.com/oreilly/radar/atom', 'value': '<h2>Privacy and security trends</h2>\\n\\n\\n\\n<ul><li><a href=\"https://www.zdnet.com/article/dns-over-https-will-eventually-roll-out-in-all-major-browsers-despite-isp-opposition/\">DNS over HTTPS</a> is rolling out in all major browsers. This is important. Although there are some security concerns, and opposition from ISPs, DNS over HTTPS makes it much more difficult for ISPs (and others) to track and resell your internet usage habits. The ISPs had this coming. (Will they block access to other name servers, like 8.8.8.8 and 1.1.1.1?)</li><li>“<a href=\"http://crookedtimber.org/2019/11/18/a-cage-went-in-search-of-a-bird/\">A Cage Went in Search of a Bird</a>” is a must-read piece on the future of privacy, riffing off an aphorism by Franz Kafka. Here’s a really short summary of the piece: technologies grant power, and that power will be used unless you think very carefully about how you want power to be used.</li><li><a href=\"https://www.technologyreview.com/s/614675/googles-new-chip-protects-the-cloud-where-its-most-vulnerable/\">OpenTitan</a> is an open source chip design from Google to verify that hardware can be trusted, from the firmware up.</li><li>Although the Chinese government is highly opposed to cryptocurrencies like Bitcoin and Ethereum, they are building their own, and starting to talk more about it. They have some fairly strong guarantees about <a href=\"https://www.technologyreview.com/f/614711/china-says-its-digital-currency-will-have-controllable-anonymitybut-who-will-control-it/\">user-controllable privacy</a>—as long as you don’t want to keep anything private from the Chinese government.</li></ul>\\n\\n\\n\\n<h2>VR trends</h2>\\n\\n\\n\\n<ul><li>So far, virtual reality has been about vision. The next step may be <a href=\"https://www.nature.com/articles/d41586-019-03506-3\">virtual touch</a>. You wear a wireless device against your skin that has large numbers of very small embedded actuators.</li><li><a href=\"https://techxplore.com/news/2019-11-google-captures-character-virtually-environment.html\">Volumetric capture</a> is a big step forward in 3D photography and VR. Google is working on it. More important (though fairly obvious): the future of computer vision is AI; it’s not the collection of algorithms for specific tasks that you find in traditional CV libraries.</li></ul>\\n\\n\\n\\n<h2>Health</h2>\\n\\n\\n\\n<ul><li><a href=\"https://www.cnbc.com/2019/11/01/google-to-acquire-fitbit-valuing-the-smartwatch-maker-at-about-2point1-billion.html\">Google is buying Fitbit</a>, clearly to compete with Apple (and to keep Wear OS relevant). The purchase itself isn’t as important as the return of interest in digital health.</li><li>Google’s <a href=\"https://www.techradar.com/news/google-signs-huge-healthtech-cloud-deal\">alliance with Ascension Health</a> (which may just be moving Ascension to the cloud, but appears to be more about making data available for research) is generating a lot of suspicion. That suspicion may be deserved, but one of the biggest problems hampering health research is data access. The project raises <a href=\"https://www.nextgov.com/ideas/2019/12/tricky-ethics-googles-project-nightingale-effort-learn-millions-health-records/161637/\">many ethical issues</a>; we don’t yet know how they’ll be addressed.</li></ul>\\n\\n\\n\\n<h2>Robotics</h2>\\n\\n\\n\\n<ul><li>Google is building a <a href=\"https://www.technologyreview.com/f/614746/alphabet-xs-everyday-robot-project-google-machines-that-learn/\">general-purpose learning robot</a>. I doubt this will ever be a consumer product, but it’s an interesting idea. Is it possible to build a robot that does things like sort recyclables? If you’ve ever looked at a trash can at a conference, you know it’s something humans can’t be bothered to do.</li><li>Along similar, though more frightening, lines: <a href=\"https://www.wbur.org/news/2019/11/25/boston-dynamics-robot-dog-massachusetts-state-police\">Boston Dynamics’ robotic dog</a> has been used by the Massachusetts State Police in at least two cases. The lease agreement between Boston Dynamics and the police specifies that the robots may not be used to “physically harm or intimidate people,” but it remains to be seen whether the users will stick to those imitations. What does “intimidate” even mean, when a robot is involved?</li></ul>\\n\\n\\n\\n<h2>Other trends</h2>\\n\\n\\n\\n<ul><li>Kubernetes isn’t the only game in town, even though it killed off all its early competition. It’s a first-generation product, and likely to be superseded. <a href=\"https://thenewstack.io/fargate-grows-faster-than-kubernetes-among-aws-customers/\">Fargate</a> on AWS is starting to get traction, and <a href=\"https://www.hashicorp.com/\">HashiCorp</a> has a suite of products that compete.</li><li>It’s worth paying attention to the drama around open source licenses, which are more interesting now than at any time in the past decade. One new twist is the <a href=\"https://firstdonoharm.dev/version/1/2/license.html\">Hippocratic License</a>, which allows anyone to use the software for purposes that don’t do harm. It’s an attempt to formalize the desire to prevent software from being used in military applications.</li><li>It’s easy to think of agriculture as low tech, but that’s wrong: <a href=\"https://www.cnet.com/paid-content/features/ai-enables-the-future-of-farming/\">Microsoft</a> is working on AI-enabled agriculture. I would not be surprised to see similar efforts at Google and Amazon, to say nothing of the companies that are already in the agriculture sector, and a host of startups.</li><li>Microsoft and Warner Brothers are collaborating on <a href=\"https://newatlas.com/computers/microsoft-warner-bros-glass-slide-storage/\">bulk data storage</a> on glass slides. They can store a full-length movie on a 3&#215;3-inch slide, which will remain readable for more than 1,000 years. This addresses one of the long-standing archival problems in computing. Paper is good for millennia, but digital storage only lasts for decades, if that.</li><li><a href=\"https://www.fastcompany.com/90425790/adobes-new-app-puts-photoshop-directly-inside-your-camera\">Photoshop in the camera in the phone</a>: it was easy to count Photoshop out, particularly with their <a href=\"https://www.vice.com/en_us/article/a3xk3p/adobe-tells-users-they-can-get-sued-for-using-old-versions-of-photoshop\">controversial subscription licensing</a>, but now they’re putting it all the way into the phone. It’s a smart move.</li></ul>\\n<img src=\"http://feeds.feedburner.com/~r/oreilly/radar/atom/~4/TvZqwwslBkc\" height=\"1\" width=\"1\" alt=\"\"/>'}], 'wfw_commentrss': 'https://www.oreilly.com/radar/radar-trends-to-watch-december-2019/feed/', 'slash_comments': '0', 'feedburner_origlink': 'https://www.oreilly.com/radar/radar-trends-to-watch-december-2019/'}, {'title': 'Four short links: 5 December 2019', 'title_detail': {'type': 'text/plain', 'language': None, 'base': 'http://feeds.feedburner.com/oreilly/radar/atom', 'value': 'Four short links: 5 December 2019'}, 'links': [{'rel': 'alternate', 'type': 'text/html', 'href': 'http://feedproxy.google.com/~r/oreilly/radar/atom/~3/cBpSwHnZOJE/'}], 'link': 'http://feedproxy.google.com/~r/oreilly/radar/atom/~3/cBpSwHnZOJE/', 'comments': 'https://www.oreilly.com/radar/four-short-links-5-december-2019/#respond', 'published': 'Thu, 05 Dec 2019 05:01:00 +0000', 'published_parsed': time.struct_time(tm_year=2019, tm_mon=12, tm_mday=5, tm_hour=5, tm_min=1, tm_sec=0, tm_wday=3, tm_yday=339, tm_isdst=0), 'authors': [{'name': 'Nat Torkington'}], 'author': 'Nat Torkington', 'author_detail': {'name': 'Nat Torkington'}, 'tags': [{'term': 'Four Short Links', 'scheme': None, 'label': None}, {'term': 'Signals', 'scheme': None, 'label': None}], 'id': 'https://www.oreilly.com/radar/?p=11136', 'guidislink': False, 'summary': 'Rediscovered Incomplete Infocom Text Adventure: Hypochondriac &#8212; download link in the video description. Discovered by Adam Summerfield by rummaging through the directories of the Infocom Hard Drive. It&#8217;s not finished and it crashes, but wow—that&#8217;s like finding a new Shakespeare play. (via Renga in Blue) What TikTok Reports About You, and How (Matthias Ebert) &#8212; [&#8230;]', 'summary_detail': {'type': 'text/html', 'language': None, 'base': 'http://feeds.feedburner.com/oreilly/radar/atom', 'value': 'Rediscovered Incomplete Infocom Text Adventure: Hypochondriac &#8212; download link in the video description. Discovered by Adam Summerfield by rummaging through the directories of the Infocom Hard Drive. It&#8217;s not finished and it crashes, but wow—that&#8217;s like finding a new Shakespeare play. (via Renga in Blue) What TikTok Reports About You, and How (Matthias Ebert) &#8212; [&#8230;]'}, 'content': [{'type': 'text/html', 'language': None, 'base': 'http://feeds.feedburner.com/oreilly/radar/atom', 'value': '<ol><li><a href=\"https://www.youtube.com/watch?v=WwIbRICyVJQ\">Rediscovered Incomplete Infocom Text Adventure: Hypochondriac</a> &#8212; download link in the video description. Discovered by <a href=\"https://twitter.com/HappyMacXL/status/1202329872305180672?s=20\">Adam Summerfield</a> by rummaging through the directories of the <a href=\"http://ascii.textfiles.com/archives/4848\">Infocom Hard Drive</a>. It&#8217;s not finished and it crashes, but wow—that&#8217;s like finding a new Shakespeare play. (via <a href=\"https://bluerenga.blog/2019/12/04/unreleased-infocom-game-unearthed-from-1986/\">Renga in Blue</a>)</li><li><a href=\"https://twitter.com/matthiaseberl/status/1202292531829981184\">What TikTok Reports About You, and How</a> (Matthias Ebert) &#8212; great Twitter thread where he shows how TikTok tracks you and where the data goes. I learned heaps, including <em>Canvas Fingerprinting. They draw an image in the background using vector graphic commands. Afterward, they save the image to a rasterized PNG. This data is quite unique among different devices, depending on settings and hardware.</em></li><li><a href=\"https://2020.cobolday.it/\">COBOL Day</a> &#8212; a conference for COBOL developers, in Italy. It&#8217;s a skill with immense employability.</li><li><a href=\"https://larahogan.me/blog/practice-difficult-conversations\">Practice Difficult Conversations</a> (Lara Hogan) &#8212; details how to practice hard conversations, and how to have them. Includes sample situations to roleplay.</li></ol>\\n<img src=\"http://feeds.feedburner.com/~r/oreilly/radar/atom/~4/cBpSwHnZOJE\" height=\"1\" width=\"1\" alt=\"\"/>'}], 'wfw_commentrss': 'https://www.oreilly.com/radar/four-short-links-5-december-2019/feed/', 'slash_comments': '0', 'feedburner_origlink': 'https://www.oreilly.com/radar/four-short-links-5-december-2019/'}, {'title': 'Four short links: 4 December 2019', 'title_detail': {'type': 'text/plain', 'language': None, 'base': 'http://feeds.feedburner.com/oreilly/radar/atom', 'value': 'Four short links: 4 December 2019'}, 'links': [{'rel': 'alternate', 'type': 'text/html', 'href': 'http://feedproxy.google.com/~r/oreilly/radar/atom/~3/DV4ZdRtk1ws/'}], 'link': 'http://feedproxy.google.com/~r/oreilly/radar/atom/~3/DV4ZdRtk1ws/', 'comments': 'https://www.oreilly.com/radar/four-short-links-4-december-2019/#respond', 'published': 'Wed, 04 Dec 2019 05:01:00 +0000', 'published_parsed': time.struct_time(tm_year=2019, tm_mon=12, tm_mday=4, tm_hour=5, tm_min=1, tm_sec=0, tm_wday=2, tm_yday=338, tm_isdst=0), 'authors': [{'name': 'Nat Torkington'}], 'author': 'Nat Torkington', 'author_detail': {'name': 'Nat Torkington'}, 'tags': [{'term': 'Four Short Links', 'scheme': None, 'label': None}, {'term': 'Signals', 'scheme': None, 'label': None}], 'id': 'https://www.oreilly.com/radar/?p=11129', 'guidislink': False, 'summary': 'The Complexity Explorer &#8212; online courses, tutorials, and resources essential to the study of complex systems. Complexity Explorer is an education project of the Santa Fe Institute. 52 Things I Learned in 2019 &#8212; Each year, humanity produces 1,000 times more transistors than grains of rice and wheat combined. How to Fight Lies, Tricks, and [&#8230;]', 'summary_detail': {'type': 'text/html', 'language': None, 'base': 'http://feeds.feedburner.com/oreilly/radar/atom', 'value': 'The Complexity Explorer &#8212; online courses, tutorials, and resources essential to the study of complex systems. Complexity Explorer is an education project of the Santa Fe Institute. 52 Things I Learned in 2019 &#8212; Each year, humanity produces 1,000 times more transistors than grains of rice and wheat combined. How to Fight Lies, Tricks, and [&#8230;]'}, 'content': [{'type': 'text/html', 'language': None, 'base': 'http://feeds.feedburner.com/oreilly/radar/atom', 'value': '<ol><li><a href=\"https://www.complexityexplorer.org/\">The Complexity Explorer</a> &#8212; <em>online courses, tutorials, and resources essential to the study of complex systems. Complexity Explorer is an education project of the Santa Fe Institute.</em></li><li><a href=\"https://medium.com/fluxx-studio-notes/52-things-i-learned-in-2019-8ee483e6c816\">52 Things I Learned in 2019</a> &#8212; <em>Each year, humanity produces 1,000 times more transistors than grains of rice and wheat combined.</em></li><li><a href=\"https://www.theverge.com/2019/12/3/20980741/fake-news-facebook-twitter-misinformation-lies-fact-check-how-to-internet-guide\">How to Fight Lies, Tricks, and Chaos Online</a> (The Verge) &#8212; <em>When to look deeper: You have a strong emotional reaction; A story seems totally ridiculous—or perfectly confirms your beliefs; You&#8217;re going to spend money because of it; You immediately want to amplify the story.</em> A lot of sound advice on spotting dodgy content and then what to do to dig into it. The trick is to find someone who wants to read it&#8230;</li><li><a href=\"https://superuser.com/questions/361297/what-colour-is-the-dark-green-on-old-fashioned-green-screen-computer-displays/1206781#1206781\">Phosphor Colors</a> &#8212; detailed answer on what colors the old amber and green-screen terminals were.</li><li><a href=\"https://aws.amazon.com/codeguru/\">AWS CodeGuru</a> &#8212; <em>a machine learning service for automated code reviews and application performance recommendations.</em> Pricey: $0.75 per 100 lines of code scanned per month. Machine learning that helps programmers is here.</li></ol>\\n<img src=\"http://feeds.feedburner.com/~r/oreilly/radar/atom/~4/DV4ZdRtk1ws\" height=\"1\" width=\"1\" alt=\"\"/>'}], 'wfw_commentrss': 'https://www.oreilly.com/radar/four-short-links-4-december-2019/feed/', 'slash_comments': '0', 'feedburner_origlink': 'https://www.oreilly.com/radar/four-short-links-4-december-2019/'}, {'title': 'Use your people as competitive advantage', 'title_detail': {'type': 'text/plain', 'language': None, 'base': 'http://feeds.feedburner.com/oreilly/radar/atom', 'value': 'Use your people as competitive advantage'}, 'links': [{'rel': 'alternate', 'type': 'text/html', 'href': 'http://feedproxy.google.com/~r/oreilly/radar/atom/~3/MGgJFA4urls/'}], 'link': 'http://feedproxy.google.com/~r/oreilly/radar/atom/~3/MGgJFA4urls/', 'comments': 'https://www.oreilly.com/radar/use-your-people-as-competitive-advantage/#respond', 'published': 'Tue, 03 Dec 2019 09:00:00 +0000', 'published_parsed': time.struct_time(tm_year=2019, tm_mon=12, tm_mday=3, tm_hour=9, tm_min=0, tm_sec=0, tm_wday=1, tm_yday=337, tm_isdst=0), 'authors': [{'name': 'Pamela Rucker'}], 'author': 'Pamela Rucker', 'author_detail': {'name': 'Pamela Rucker'}, 'tags': [{'term': 'Future of the Firm', 'scheme': None, 'label': None}, {'term': 'Deep Dive', 'scheme': None, 'label': None}], 'id': 'https://www.oreilly.com/radar/?p=11068', 'guidislink': False, 'summary': 'In a fast-paced digital world, it is tempting to suppose that deploying the latest technology is the lynchpin to competitive advantage. Extremely powerful digital technologies are now accessible to most companies—meaning you must find new ways to distinguish yourself in a crowded field. One very effective method for unearthing strategies that differentiate your organization from [&#8230;]', 'summary_detail': {'type': 'text/html', 'language': None, 'base': 'http://feeds.feedburner.com/oreilly/radar/atom', 'value': 'In a fast-paced digital world, it is tempting to suppose that deploying the latest technology is the lynchpin to competitive advantage. Extremely powerful digital technologies are now accessible to most companies—meaning you must find new ways to distinguish yourself in a crowded field. One very effective method for unearthing strategies that differentiate your organization from [&#8230;]'}, 'content': [{'type': 'text/html', 'language': None, 'base': 'http://feeds.feedburner.com/oreilly/radar/atom', 'value': '<p>In a fast-paced digital world, it is tempting to suppose that deploying the latest technology is the lynchpin to competitive advantage. Extremely powerful digital technologies are now accessible to most companies—meaning you must find new ways to distinguish yourself in a crowded field.</p>\\n\\n\\n\\n<p>One very effective method for unearthing strategies that differentiate your organization from everyone else is to leverage your people as a competitive advantage. “Using people,” in this context, means placing an emphasis on any full-time employee, contractor, partner, supplier, gig worker, etc., who is part of your extended ecosystem of strategy and delivery. These are the groups and individuals who provide the fuel to make your technology engine work. You will find them interspersed inside and outside your organization, and it is your task to harness their collective power to build a coalition of support for your business. If you do this well, you can use ecosystem engagement as a way to build stickiness between your organization and employees. As we progress through this latest digital era, we are starting to see more strength in numbers—particularly from unexpected partnerships that provide different perspectives and allow ideas and innovation to originate from a variety of sources. By embracing cognitive diversity, these partnerships thrive because they’ve learned how to tap into a variety of players in order to design and deliver a compelling solution. Each time you tap into it, your people ecosystem presents a blank canvas of potential innovation, and capitalizing on their insight and adaptability creates new opportunities for unique advantage.</p>\\n\\n\\n\\n<p>Organizations that struggle to keep or fully engage their people ecosystem may find themselves facing the quandary of having people who once worked with them or for them easily becoming foes. History shows us that <em>not</em> recognizing the latent talent in your untapped, disengaged employees creates a hazard for your organization: a cohort of employees who understand your strategic priorities and what you value and use that knowledge to compete, providing new services aimed at dissatisfied customers looking for new options. Armed with the quick and easy tools that make spinning up a startup or a competitive initiative effortless, former employees can quickly wreak havoc on your best-laid plans—something that it used to take a much larger organization to accomplish. What can you do? Go on the offense, pursuing a strong people-based competitive advantage to build a vibrant ecosystem of employees and partners who feel valued and aligned with your organizational goals.</p>\\n\\n\\n\\n<p>A significant challenge you might face when you are looking to strengthen your people ecosystem is the temptation to continue operating within your traditional mode of working, and within your traditional types of relationships. Your old ways of working required one level of engagement, but to exploit the power of the digital economy, you have to bring new players into the ecosystem and be far more intentional about the way you interact with them to use their capabilities. As you do this, you will quickly find that what it takes to make one group or person happy is not what it takes to make another group or person happy, and you will constantly negotiate outcomes to ensure everyone feels like they are in a win-win scenario. The digital economy moves at a frenetic pace and causes massive changes in personal and societal expectations. Solutions that worked just a few years ago will no longer keep customers and partners happy. That’s why it’s vital that you maintain an environment where people feel they are in a win-win relationship and they see your success as something that&#8217;s good for them. Leaders who assume they have good relationships with freelancers, contractors, or suppliers can quickly find themselves struggling with the same concerns vocalized by disengaged employees, and this type of disconnect can dramatically impact your level of output. You lose a great deal of innovation capacity when you can no longer count on people to give the extra effort that comes because they are autonomously motivated to succeed. To keep everyone happy and excited at the same time, you will need an agile engagement approach. That means the painstaking work you do today to build a high degree of engagement with your people may have to be revisited often to keep them invested in your organization.</p>\\n\\n\\n\\n<p>If you want to develop a strong, competitive advantage built on the expertise of people in your ecosystem, you should focus on five key strategies:</p>\\n\\n\\n\\n<ol><li><strong>Discover what your customers deeply value</strong>. Develop a cross-functional, inside-out team that focuses intensely on this issue. Nothing works better to discover what your customers value than to have a diverse group of people who can relate to and reflect the customer base. For instance, rather than using all of your talent to concentrate on delivering better features to existing customers, use some of your talent to uncover and solve new problems. This will help you move from a product-centric approach to a customer-centric approach.</li><li><strong>Have a value proposition that people can engage with.</strong> Creating a company identity, placing your company in the marketplace, making clear what you hope to accomplish, the future you want to achieve, and communicating all of that to those you work with provides the raw materials for engagement, for helping those employees, partners, contractors, and even gig workers find a place for themselves in your company’s future.</li><li><strong>Recognize that great people are everywhere in your organization, tucked away where you can&#8217;t see them.</strong> Look for talent spread out through every level in your company and start to use that talent in new ways. Some of your best opportunities for ideation will come from crowdsourcing innovation up, down and across your team. For instance, when leading a technical team, use traditional technical skills like understanding objects, understanding layers, or understanding components in a LEGO-like architecture, and use those functional skills as analogs to the soft skills that help team members understand leadership and how the different parts of the organization relate to each other. Help team members recognize that there are layers to the way that the business works, layers to the way that people work, or layers to relationships. Help people with high potential understand how all parts of the business work together and demonstrate how to conceptualize new ways to use old processes. Transform team knowledge from solely a functional or technical capability to a business capability, and work with your staff to be very deliberate about the roles and opportunities they take or the places where they invest their time.</li><li><strong>Build teams with cognitive diversity.</strong> Deliberately look for people and partners who come to the table from different paths in life. Have multi-generational, multi-ethnic, geographically dispersed teams that understand how to work well together by leaving bias at the door. Have multi-disciplinary teams pour through your data with the express assignment of finding new problems to solve. Recognize that just because you invited everyone to the table, that does not mean they all have the courage to speak up. Provide prompts and cues to ensure team members participate, describing their findings, testing their ideas, and sharing insights into their thought processes. This will spur collaboration, spark innovative ideas within others, and remove the stigma associated with failure. To help move this forward, design your meetings to enable every voice in the group. Talk openly about great attempts that failed, share team successes, and give room for even the most silent participants to open up and share their thoughts. People can often believe the smartest person in the room is also the most confident person in the room, and that&#8217;s not always the case. You can frequently have very astute team members with a wealth of knowledge built from their path in life and professional experiences, but they might lack the confidence or interest in speaking up in front of a group. Create a standard knowledge sharing process so team members can exchange discoveries and discuss ideas in open and honest ways.</li><li><strong>Allow employees to move around in order to develop different capabilities.</strong> You&#8217;ll want to discover early in your team members&#8217; careers what they might want to do later in life. This is true for your partners and suppliers just as it is for your employees. Spend some time discovering their capabilities. Some people might transition into great business leaders, others might become great technical leaders, and others might become strong master contributors who really know your customers and your business well. Regardless of the track they choose, you want use their capabilities strategically so they stay engaged and excited about solving your most pressing business problems. Whether it&#8217;s working as a coder, designing a strategy, or understanding the bowels of the enterprise and how to get things to move when they are stuck, allow team members to grow and be useful in ways that create opportunities in a variety of places. Give them a chance to travel, take on choice assignments, work remotely, change jobs and roles, dabble in fringe interests, or work together on pet projects. This means you will have to hand off commodity work to more junior staff so your senior leaders can grow organically in ways that work for them and the organization. If you overlook this, your people can feel stagnant and will look to create opportunities for movement on their own, which means they will likely look for employment elsewhere.</li></ol>\\n\\n\\n\\n<p>As you focus on these areas, you will naturally see new and different capabilities emerge. Recognize these capabilities in your people not just for what they can do for you now, but for what they can do for you in the future, and then strategically position them so they can help you transform the business. Placing people in flexible roles helps them come up with autonomous innovation because the deeper they get into technology, the content, or their knowledge of the business, the more they uncover opportunities for you to get better, to modernize, to offer new solutions, or to have the next big thing that might transform the industry. Instead of looking at your people solely as tools to fulfill your current work, look at them as opportunities to uncover new jobs, expand your offerings, design new partnerships, discover a new mission, and recognize new customers. By doing that, you will have a talent advantage that cannot be duplicated.</p>\\n<img src=\"http://feeds.feedburner.com/~r/oreilly/radar/atom/~4/MGgJFA4urls\" height=\"1\" width=\"1\" alt=\"\"/>'}], 'wfw_commentrss': 'https://www.oreilly.com/radar/use-your-people-as-competitive-advantage/feed/', 'slash_comments': '0', 'feedburner_origlink': 'https://www.oreilly.com/radar/use-your-people-as-competitive-advantage/'}, {'title': 'Four short links: 3 December 2019', 'title_detail': {'type': 'text/plain', 'language': None, 'base': 'http://feeds.feedburner.com/oreilly/radar/atom', 'value': 'Four short links: 3 December 2019'}, 'links': [{'rel': 'alternate', 'type': 'text/html', 'href': 'http://feedproxy.google.com/~r/oreilly/radar/atom/~3/Sdq4W16dlQA/'}], 'link': 'http://feedproxy.google.com/~r/oreilly/radar/atom/~3/Sdq4W16dlQA/', 'comments': 'https://www.oreilly.com/radar/four-short-links-3-december-2019/#respond', 'published': 'Tue, 03 Dec 2019 05:01:00 +0000', 'published_parsed': time.struct_time(tm_year=2019, tm_mon=12, tm_mday=3, tm_hour=5, tm_min=1, tm_sec=0, tm_wday=1, tm_yday=337, tm_isdst=0), 'authors': [{'name': 'Nat Torkington'}], 'author': 'Nat Torkington', 'author_detail': {'name': 'Nat Torkington'}, 'tags': [{'term': 'Four Short Links', 'scheme': None, 'label': None}, {'term': 'Signals', 'scheme': None, 'label': None}], 'id': 'https://www.oreilly.com/radar/?p=11109', 'guidislink': False, 'summary': 'Oxide.computer &#8212; a new hardware company, looking to make on-prem easy. (There are still a lot of applications for on-prem) Read Jessie Frazelle and Bryan Cantrell&#8216;s blog posts for more background. The pendulum always swings between local and remote. Web was a huge breakthrough because it was remote info services, but eventually mobile had its [&#8230;]', 'summary_detail': {'type': 'text/html', 'language': None, 'base': 'http://feeds.feedburner.com/oreilly/radar/atom', 'value': 'Oxide.computer &#8212; a new hardware company, looking to make on-prem easy. (There are still a lot of applications for on-prem) Read Jessie Frazelle and Bryan Cantrell&#8216;s blog posts for more background. The pendulum always swings between local and remote. Web was a huge breakthrough because it was remote info services, but eventually mobile had its [&#8230;]'}, 'content': [{'type': 'text/html', 'language': None, 'base': 'http://feeds.feedburner.com/oreilly/radar/atom', 'value': '<ol><li><a href=\"https://oxide.computer/\">Oxide.computer</a> &#8212; a new hardware company, looking to make on-prem easy. (There are still a lot of applications for on-prem) Read <a href=\"https://blog.jessfraz.com/post/born-in-a-garage/\">Jessie Frazelle</a> and <a href=\"http://dtrace.org/blogs/bmc/2019/12/02/the-soul-of-a-new-computer-company/\">Bryan Cantrell</a>&#8216;s blog posts for more background. The pendulum always swings between local and remote. Web was a huge breakthrough because it was remote info services, but eventually mobile had its day. Web 1.0 was built on pricey on-prem iron, which (with Moore&#8217;s Law) brought economies of scale that meant Google, Amazon, Twitter, etc., could build vast data centers for their own use—some of which then became clouds for others to use, the value being fast scaling from zero to zillions. Now there are signs of life in the on-prem again, where value is privacy, control, and so on. It&#8217;s always interesting times in this industry.</li><li><a href=\"https://courses.washington.edu/psii101/Powerpoints/Symptoms%20of%20Groupthink.htm\">Symptoms of Groupthink</a> &#8212; <em>Illusion of Invulnerability; Belief in Inherent Morality of the Group; Collective Rationalization; Out-group Stereotypes; Self-Censorship; Illusion of Unanimity; Direct Pressure on Dissenters; Self-Appointed Mindguards.</em></li><li><a href=\"https://www.countbayesie.com/\">Count Bayesie</a> &#8212; <em>Video and lecture notes from a tutorial on probability and statistics given at PyData NYC 2019. This tutorial provides a crash course in probability in statistics that will cover the essentials, including probability theory, parameter estimation, hypothesis testing, and using the generalized linear model—all in just 90 minutes!</em> A truly great name.</li><li><a href=\"https://randsinrepose.com/archives/a-distributed-meeting-primer/\">A Distributed Meeting Primer</a> (Rands in Repose) &#8212; sound tactical advice for good meetings with remote team members. <em>As the host, schedule meetings at X:05 or X:35 and get there at X:00 to make sure all technology is set up for a distributed meeting. Not only does this make sure the meeting starts on time, but it sends an important signal. How often have you had a meeting where seven minutes in someone asks, “Where’s Andy?” Well, Andy is distributed, and no one turned on the video camera. More importantly, Andy has been sitting in his home office for the last seven minutes wondering, &#8220;Did they forget me?&#8221;</em></li></ol>\\n<img src=\"http://feeds.feedburner.com/~r/oreilly/radar/atom/~4/Sdq4W16dlQA\" height=\"1\" width=\"1\" alt=\"\"/>'}], 'wfw_commentrss': 'https://www.oreilly.com/radar/four-short-links-3-december-2019/feed/', 'slash_comments': '0', 'feedburner_origlink': 'https://www.oreilly.com/radar/four-short-links-3-december-2019/'}, {'title': 'A 5G future', 'title_detail': {'type': 'text/plain', 'language': None, 'base': 'http://feeds.feedburner.com/oreilly/radar/atom', 'value': 'A 5G future'}, 'links': [{'rel': 'alternate', 'type': 'text/html', 'href': 'http://feedproxy.google.com/~r/oreilly/radar/atom/~3/HBPQapDNYpY/'}], 'link': 'http://feedproxy.google.com/~r/oreilly/radar/atom/~3/HBPQapDNYpY/', 'comments': 'https://www.oreilly.com/radar/a-5g-future/#respond', 'published': 'Mon, 02 Dec 2019 10:00:00 +0000', 'published_parsed': time.struct_time(tm_year=2019, tm_mon=12, tm_mday=2, tm_hour=10, tm_min=0, tm_sec=0, tm_wday=0, tm_yday=336, tm_isdst=0), 'authors': [{'name': 'Mike Loukides'}], 'author': 'Mike Loukides', 'author_detail': {'name': 'Mike Loukides'}, 'tags': [{'term': 'Innovation & Disruption', 'scheme': None, 'label': None}, {'term': 'Radar Column', 'scheme': None, 'label': None}, {'term': 'Commentary', 'scheme': None, 'label': None}], 'id': 'https://www.oreilly.com/radar/?p=11075', 'guidislink': False, 'summary': 'For the past year, 5G cell technology has generated a lot of excitement–and a lot of hype. The specifications are impressive: 5G will provide a peak data rate of up to 20 Gbps (with 100 Mbps of “user experienced data rate”) to mobile devices: cell phones, smart cars, and a lot of devices that haven’t [&#8230;]', 'summary_detail': {'type': 'text/html', 'language': None, 'base': 'http://feeds.feedburner.com/oreilly/radar/atom', 'value': 'For the past year, 5G cell technology has generated a lot of excitement–and a lot of hype. The specifications are impressive: 5G will provide a peak data rate of up to 20 Gbps (with 100 Mbps of “user experienced data rate”) to mobile devices: cell phones, smart cars, and a lot of devices that haven’t [&#8230;]'}, 'content': [{'type': 'text/html', 'language': None, 'base': 'http://feeds.feedburner.com/oreilly/radar/atom', 'value': '<p>For the past year, 5G cell technology has generated a lot of excitement–and a lot of hype. The specifications are impressive: 5G will provide a <a href=\"https://www.etsi.org/technologies/5g\">peak data rate</a> of up to 20 Gbps (with 100 Mbps of “<a href=\"https://5gobservatory.eu/info-deployments/5g-performance/\">user experienced data rate</a>”) to mobile devices: cell phones, smart cars, and a lot of devices that haven’t been invented yet. It’s difficult to imagine mobile applications that will require that much data, and 5G’s proponents seem willing to promise just about anything. What will 5G mean in practice? If it’s going to make any real difference, we’ll need to think that through.</p>\\n\\n\\n\\n<p>The most obvious change 5G might bring about isn’t to cell phones but to local networks, whether at home or in the office. Back in the 1980s, Nicholas Negroponte <a href=\"https://books.google.com/books?id=McBUx67rw7wC&amp;pg=PA338&amp;lpg=PA338&amp;dq=negroponte+everything+wired+will+become+wireless,+and+everything+wireless+will+become+wired.&amp;source=bl&amp;ots=cJTyDDyWhR&amp;sig=ACfU3U14LnXEcU_lGE6lm5jHFk30-mCQ1w&amp;hl=en&amp;sa=X&amp;ved=2ahUKEwiRsZOD7-DlAhWsuFkKHZg9CqwQ6AEwBXoECAkQAQ#v=onepage&amp;q=negroponte%20everything%20wired%20will%20become%20wireless%2C%20and%20everything%20wireless%20will%20become%20wired.&amp;f=false\">said</a> everything wired will become wireless, and everything wireless will become wired. What happens to “last mile” connectivity, which seems to be stuck somewhere around 50 Mbps for homes and several times that for business service? It would be great to have an alternative to the local cable monopoly for high-bandwidth connectivity. We were supposed to have fiber to the home by now. I don’t, do you? High-speed networks through 5G may represent the next generation of <a href=\"https://en.wikipedia.org/wiki/Cord-cutting\">cord cutting</a>. Can 5G replace wired broadband, allowing one wireless service for home and mobile connectivity? I don’t need more bandwidth for video conferences or movies, but I would like to be able to download operating system updates and other large items in seconds rather than minutes. Anyone who has ever built a Docker container has experienced “now we wait for some giant things to download and be uncompressed.” Those waits can be significant, even if you’re on a corporate network. They could disappear.</p>\\n\\n\\n\\n<p>Rural connectivity is a persistent problem; many rural users (and some urban users) are still limited to dial-up speeds. Although the industry <a href=\"https://www.zdnet.com/article/the-realities-of-rural-5g-deployment-in-the-us/\">claims</a> that 5G will provide better connectivity for rural areas, I’m skeptical. Because 5G uses higher frequencies than 4G, and higher frequencies are more subject to path loss, 5G cells have to be smaller than 4G/LTE cells. If carriers won’t build cell towers for current technology, they aren’t likely to build even more towers for 5G. I suspect rural communities will be left in the dark–again.</p>\\n\\n\\n\\n<p>As far as mobile and embedded devices go, I don’t see why I need a gigabit on my phone, except perhaps to serve as a Wi-Fi hub when traveling. Phones are a painful way to watch movies–more about that later. 5G enthusiasts frequently say it’s an enabling technology for autonomous vehicles (AV), which will need high bandwidth to download maps and images, and perhaps even to communicate with each other: AV heaven is a world in which all vehicles are autonomous and can therefore collaboratively plan traffic. That may well require 5G–though again, I wonder who is going to make the investment in building out rural networks. Autonomous vehicles that only work in urban or suburban areas are less useful. For applications like communication between AVs, latency–how long it takes to get a response–is more likely to be a bigger limitation than raw bandwidth, and is subject to limits imposed by physics. There are impressive <a href=\"http://www.techplayon.com/5g-nr-control-plane-latency-calculations/\">estimates</a> for latency for 5G, but reality has a tendency to be harsh on such predictions. Reliability will be an even bigger problem than latency. Remember your last trip to New York or San Francisco? Cell service in major cities is often poor because signals are reflected from buildings and attenuated (weakened) as they pass through. Those problems get worse as you go higher in frequency, as 5G does. Whether you’re interested in AVs or some other applications, making mobile connections more reliable is more important than making them faster. 5G intends to do so by trading off congestion against signal quality. That’s a plausible tradeoff, but it remains to be seen whether it works.</p>\\n\\n\\n\\n<p>Pete Warden, who is working on <a href=\"https://learning.oreilly.com/library/view/tinyml/9781492052036/\">machine learning for very low power devices</a>, says 5G is only marginally useful for the applications he cares about. When you’re trying to build a device that will run for months on a coin battery, you realize that the radio takes much more power than the CPU. You have to keep the radio off as much as possible, transmitting data in short, brief bursts. So what about industrial IoT (IIoT), and sensors that can be built into a <a href=\"https://www.oreilly.com/radar/tinyml-the-challenges-and-opportunities-of-low-power-ml-applications/\">sticker</a> and slapped on to machinery? That might be a 5G application–but as Warden has said, the real win here is eliminating batteries and power cords, which in turn requires careful use of low-power networking. 5G isn’t ideal for that, and the first indications are that it will require more power than current technologies.</p>\\n\\n\\n\\n<p>Regardless of power consumption, I’m not convinced we’ll have lots of IoT devices shipping data back to their respective motherships. We’ve seen the reaction to news that Amazon’s Echo and Google Home send recordings of conversations back to the server. And we’re already seeing devices like smart thermostats and light bulbs being used for <a href=\"https://www.nytimes.com/2018/06/23/technology/smart-home-devices-domestic-abuse.html\">harassment</a>. As privacy regulation takes hold and techniques like <a href=\"https://ai.googleblog.com/2017/04/federated-learning-collaborative.html\">federated learning</a> become more widespread, the need–and desire–for shipping our data far and wide will inevitably decrease.</p>\\n\\n\\n\\n<p>So where is 5G useful? Let’s get back to home networking. I’d gladly give up my 50 Mbps wired connection for gigabit wireless. Again, that’s the ultimate cable cutting, and it creates significant new possibilities. I might not want to watch 4K video on my phone (given current screen technology, to say nothing of our eyes’ angular resolution, high-resolution video on a phone is meaningless), but I might want to send video from my phone to my television using Chromecast.</p>\\n\\n\\n\\n<p>I’m satisfied with my current Wi-Fi deployment, but I wonder whether I’d even need Wi-Fi in a 5G world. Perhaps, for security and privacy reasons, it makes sense to separate a local network from the rest of the world. But that’s also a problem that 5G vendors could solve; virtual LANs (<a href=\"https://en.wikipedia.org/wiki/Virtual_LAN\">VLANs</a>) are hardly a new concept. Gigabit connectivity to laptops, with the cell network providing a VLAN, could also replace office networks. In either case, some hard guarantees about privacy and security would be needed. Given <a href=\"https://www.privacypolicies.com/blog/isp-tracking-you/\">service providers’ records on user tracking</a>, that may be too much to ask.</p>\\n\\n\\n\\n<p>If we can get some enforceable guarantees about privacy and security on ISP-provided VLANs, I can imagine bigger changes. I’ve long thought it makes little sense to maintain disk drives (whether rust-based or solid-state) that periodically fail and need to be backed up. I do regular backups, but I know I’m the exception. What would the world look like if all of our storage was in the cloud, and access to that storage was so fast we didn’t care? What if all of your documents were in Google Docs, all of your music was in your favorite streaming service? That vision isn’t entirely new; Sun Microsystems had the idea back in the 1990s, and that’s essentially the vision behind Google’s Chromebooks.</p>\\n\\n\\n\\n<p>How would our usage patterns change with 5G? I have 30 or 40 GB of photos. I could upload them all to Google Photos or some other service, but at 50 Mbps down and 10 Mbps up, that’s not something you want to think about. At a gigabit, you don’t have to think twice. I’ve always been unimpressed by streaming services for music and video, at least partly because they’re least available when you most want them: when you’re flying or on a train, in at a technical conference with 3,000 attendees maxing out the hotel’s network. (Someone once told me “so download everything you’re likely to want to listen to before leaving.”&nbsp; Really.)&nbsp; But with gigabit microcells, this suddenly makes sense. Maybe not on flights, which are out of range of cell towers and where WoeFi will remain the order of the day, and maybe not when you’re driving through rural areas, but if I can get a gigabit network to my phone, why should I care about Amtrak’s slow Wi-Fi or network congestion in my hotel? If an office can get that kind of bandwidth to my laptop, with adequate guarantees for cloud security, why should we worry about office LANs?</p>\\n\\n\\n\\n<p>Whether that excites you or not, that strikes me as a significantly new pattern: we won’t care where our data is. We won’t need to worry about backups. We won’t need to worry (as much) about outages. We can bring our networks with us. We won’t even need to worry as much about security; Google, Amazon, and Microsoft all do better backups than I ever will, are much better at surviving network disruption, and know an awful lot more about how to protect my data. If Google can push their users to <a href=\"https://authy.com/what-is-2fa/\">two-factor authentication</a> (2FA) or the use of a <a href=\"https://www.extremetech.com/computing/274067-google-eliminated-phishing-by-giving-all-85000-employees-usb-security-keys\">security dongle</a>, that’s a huge step toward safe computing. Those cloud providers will, of course, have to guarantee this data remains private–as private as it is when it lives on a personal disk drive or an office fileserver. That’s a problem that’s <a href=\"https://en.wikipedia.org/wiki/FBI%E2%80%93Apple_encryption_dispute\">eminently solvable</a>.</p>\\n\\n\\n\\n<p>The implications for business are even more important. Home users think in gigabytes; businesses are increasingly involved with tera- or petabytes. It’s a lot easier to move large datasets when you have ubiquitous gigabit networks. Whether that’s training data for AI applications or just lots of transaction records, businesses move data, and lots of it. With our current technology, the best way to move a huge amount of data is, all too often, to put <a href=\"https://aws.amazon.com/snowmobile/\">disk drives on a truck</a>. 5G brings us a lot closer to solving that problem–if we can get hard guarantees about security and privacy. Businesses are even less likely than users to appreciate some third party using their data for their own purposes.</p>\\n\\n\\n\\n<p>I’m sure that 5G will also lead to a new generation of smart devices that can use the bandwidth–devices we haven’t imagined yet. But I’m more interested in something I can imagine, decoupling myself from my data: having access to it any time, any where, without carrying it around, or stashing it on some kind of machine in the closet. That’s the real promise of 5G. <em>— Mike Loukides</em></p>\\n\\n\\n\\n<hr class=\"wp-block-separator\" />\\n\\n\\n\\n<h2>Radar data points: Recent research and analysis</h2>\\n\\n\\n\\n<p>We recently conducted a <a href=\"https://www.oreilly.com/radar/oreilly-serverless-survey-2019-concerns-what-works-and-what-to-expect/\">survey on serverless architecture adoption</a>. We were pleasantly surprised at the high level of response: more than 1,500 respondents from a wide range of locations, companies, and industries participated. The high response rate tells us that serverless is garnering significant mindshare in the community.</p>\\n\\n\\n\\n<p>Key findings from the serverless survey include:</p>\\n\\n\\n\\n<ul><li>40% of respondents work at organizations that have adopted serverless architecture in some form or another. Reduced operational costs and automatic scaling are the top serverless benefits cited by this group.</li><li>Of the 60% of respondents whose companies haven’t adopted serverless, the leading concerns about the paradigm are security and fear of the unknown.</li><li>About 50% of respondents who adopted serverless three-plus years ago consider their implementations successful or extremely successful, a contrast to the 35% of those adopting serverless a year or less ago experiencing a successful or extremely successful implementation—a gap that suggests serverless experience pays off.</li><li>Respondents who have implemented serverless made custom tooling the top tool choice—implying that vendors’ tools may not fully address what organizations need to deploy and manage a serverless infrastructure.</li></ul>\\n\\n\\n\\n<p>Read “<a href=\"https://www.oreilly.com/radar/oreilly-serverless-survey-2019-concerns-what-works-and-what-to-expect/\">O’Reilly serverless survey 2019: Concerns, what works, and what to expect</a>” for full results. Also be sure to check out our <a href=\"https://www.oreilly.com/radar/tag/research/\">archive of Radar research and analysis</a>.</p>\\n\\n\\n\\n<hr class=\"wp-block-separator\" />\\n\\n\\n\\n<h2>Upcoming events</h2>\\n\\n\\n\\n<p><a href=\"https://www.oreilly.com/conferences\">O’Reilly conferences</a> combine expert insights from industry leaders with hands-on guidance about today’s most important technology topics.</p>\\n\\n\\n\\n<p>We hope you’ll join us at our upcoming events:</p>\\n\\n\\n\\n<p><a href=\"https://conferences.oreilly.com/software-architecture/sa-ny\">O’Reilly Software Architecture Conference in New York</a>, February 23-26, 2020</p>\\n\\n\\n\\n<p><a href=\"https://conferences.oreilly.com/strata/strata-ca\">Strata Data Conference in San Jose</a>, March 15-18, 2020</p>\\n\\n\\n\\n<p><a href=\"https://conferences.oreilly.com/artificial-intelligence/ai-ca\">O’Reilly Artificial Intelligence Conference in San Jose</a>, March 15-18, 2020</p>\\n<img src=\"http://feeds.feedburner.com/~r/oreilly/radar/atom/~4/HBPQapDNYpY\" height=\"1\" width=\"1\" alt=\"\"/>'}], 'wfw_commentrss': 'https://www.oreilly.com/radar/a-5g-future/feed/', 'slash_comments': '0', 'feedburner_origlink': 'https://www.oreilly.com/radar/a-5g-future/'}, {'title': 'Four short links: 2 December 2019', 'title_detail': {'type': 'text/plain', 'language': None, 'base': 'http://feeds.feedburner.com/oreilly/radar/atom', 'value': 'Four short links: 2 December 2019'}, 'links': [{'rel': 'alternate', 'type': 'text/html', 'href': 'http://feedproxy.google.com/~r/oreilly/radar/atom/~3/0ojwY1exOKw/'}], 'link': 'http://feedproxy.google.com/~r/oreilly/radar/atom/~3/0ojwY1exOKw/', 'comments': 'https://www.oreilly.com/radar/four-short-links-2-december-2019/#respond', 'published': 'Mon, 02 Dec 2019 05:01:00 +0000', 'published_parsed': time.struct_time(tm_year=2019, tm_mon=12, tm_mday=2, tm_hour=5, tm_min=1, tm_sec=0, tm_wday=0, tm_yday=336, tm_isdst=0), 'authors': [{'name': 'Nat Torkington'}], 'author': 'Nat Torkington', 'author_detail': {'name': 'Nat Torkington'}, 'tags': [{'term': 'Four Short Links', 'scheme': None, 'label': None}, {'term': 'Signals', 'scheme': None, 'label': None}], 'id': 'https://www.oreilly.com/radar/?p=11100', 'guidislink': False, 'summary': 'Two Years at Dropbox &#8212; a lot of wisdom as he reflects on his experience. Nobody cares how you learned the trick, but you’re a wizard if you perform it in front of them. webhook &#8212; a lightweight incoming webhook server to run shell commands. Making Sense of Sensory Input &#8212; On our account, making [&#8230;]', 'summary_detail': {'type': 'text/html', 'language': None, 'base': 'http://feeds.feedburner.com/oreilly/radar/atom', 'value': 'Two Years at Dropbox &#8212; a lot of wisdom as he reflects on his experience. Nobody cares how you learned the trick, but you’re a wizard if you perform it in front of them. webhook &#8212; a lightweight incoming webhook server to run shell commands. Making Sense of Sensory Input &#8212; On our account, making [&#8230;]'}, 'content': [{'type': 'text/html', 'language': None, 'base': 'http://feeds.feedburner.com/oreilly/radar/atom', 'value': '<ol><li><a href=\"https://chadaustin.me/2019/11/two-years-at-dropbox/\">Two Years at Dropbox</a> &#8212; a lot of wisdom as he reflects on his experience. <em>Nobody cares how you learned the trick, but you’re a wizard if you perform it in front of them.</em></li><li><a href=\"https://github.com/adnanh/webhook\">webhook</a> &#8212; <em>a lightweight incoming webhook server to run shell commands</em>.</li><li><a href=\"https://arxiv.org/abs/1910.02227\">Making Sense of Sensory Input</a> &#8212; <em>On our account, making sense of sensory input is a type of program synthesis, but it is unsupervised program synthesis. [&#8230;] The Apperception Engine [&#8230;] was designed to satisfy the above requirements. Our system is able to produce interpretable human-readable causal theories from very small amounts of data,</em></li><li><a href=\"https://vim-adventures.com/\">Vim Adventures</a> &#8212; what? Just having it beep at you until you kill the terminal window isn&#8217;t a good way to learn vi?!</li></ol>\\n<img src=\"http://feeds.feedburner.com/~r/oreilly/radar/atom/~4/0ojwY1exOKw\" height=\"1\" width=\"1\" alt=\"\"/>'}], 'wfw_commentrss': 'https://www.oreilly.com/radar/four-short-links-2-december-2019/feed/', 'slash_comments': '0', 'feedburner_origlink': 'https://www.oreilly.com/radar/four-short-links-2-december-2019/'}, {'title': 'Four short links: 29 November 2019', 'title_detail': {'type': 'text/plain', 'language': None, 'base': 'http://feeds.feedburner.com/oreilly/radar/atom', 'value': 'Four short links: 29 November 2019'}, 'links': [{'rel': 'alternate', 'type': 'text/html', 'href': 'http://feedproxy.google.com/~r/oreilly/radar/atom/~3/u2JdtxcRGKg/'}], 'link': 'http://feedproxy.google.com/~r/oreilly/radar/atom/~3/u2JdtxcRGKg/', 'comments': 'https://www.oreilly.com/radar/four-short-links-29-november-2019/#respond', 'published': 'Fri, 29 Nov 2019 05:01:00 +0000', 'published_parsed': time.struct_time(tm_year=2019, tm_mon=11, tm_mday=29, tm_hour=5, tm_min=1, tm_sec=0, tm_wday=4, tm_yday=333, tm_isdst=0), 'authors': [{'name': 'Nat Torkington'}], 'author': 'Nat Torkington', 'author_detail': {'name': 'Nat Torkington'}, 'tags': [{'term': 'Four Short Links', 'scheme': None, 'label': None}], 'id': 'https://www.oreilly.com/radar/?p=11096', 'guidislink': False, 'summary': 'A Visual Guide to Using BERT for the First Time &#8212; This post is a simple tutorial for how to use a variant of BERT to classify sentences. This is an example that is basic enough as a first intro, yet advanced enough to showcase some of the key concepts involved. jor1k &#8212; Online OR1K [&#8230;]', 'summary_detail': {'type': 'text/html', 'language': None, 'base': 'http://feeds.feedburner.com/oreilly/radar/atom', 'value': 'A Visual Guide to Using BERT for the First Time &#8212; This post is a simple tutorial for how to use a variant of BERT to classify sentences. This is an example that is basic enough as a first intro, yet advanced enough to showcase some of the key concepts involved. jor1k &#8212; Online OR1K [&#8230;]'}, 'content': [{'type': 'text/html', 'language': None, 'base': 'http://feeds.feedburner.com/oreilly/radar/atom', 'value': '<ol><li><a href=\"http://jalammar.github.io/a-visual-guide-to-using-bert-for-the-first-time/\">A Visual Guide to Using BERT for the First Time</a> &#8212; <em>This post is a simple tutorial for how to use a variant of BERT to classify sentences. This is an example that is basic enough as a first intro, yet advanced enough to showcase some of the key concepts involved.</em></li><li><a href=\"https://github.com/s-macke/jor1k\">jor1k</a> &#8212; <em>Online OR1K Emulator running Linux.</em> Emulates hardware running Linux, in the browser. Wow.</li><li><a href=\"https://www.fsf.org/givingguide/v10/\">Ethical Tech-Giving Guide</a> &#8212; EFF&#8217;s annual guide to presents that fit with their ethical principles.</li><li><a href=\"https://vimeo.com/370008157\">People are the Adaptable Element of Complex Systems</a> (Vimeo) &#8212; John Allspaw&#8217;s talk <em>about the apparent irony of finding sources of resilience (sustaining the capacity to adapt to the unforeseen) [&#8230;] examining closely what would otherwise be categorized as failure: the messy details of critical incidents.</em></li></ol>\\n<img src=\"http://feeds.feedburner.com/~r/oreilly/radar/atom/~4/u2JdtxcRGKg\" height=\"1\" width=\"1\" alt=\"\"/>'}], 'wfw_commentrss': 'https://www.oreilly.com/radar/four-short-links-29-november-2019/feed/', 'slash_comments': '0', 'feedburner_origlink': 'https://www.oreilly.com/radar/four-short-links-29-november-2019/'}, {'title': 'Four short links: 28 November 2019', 'title_detail': {'type': 'text/plain', 'language': None, 'base': 'http://feeds.feedburner.com/oreilly/radar/atom', 'value': 'Four short links: 28 November 2019'}, 'links': [{'rel': 'alternate', 'type': 'text/html', 'href': 'http://feedproxy.google.com/~r/oreilly/radar/atom/~3/samIGFQ23n8/'}], 'link': 'http://feedproxy.google.com/~r/oreilly/radar/atom/~3/samIGFQ23n8/', 'comments': 'https://www.oreilly.com/radar/four-short-links-28-november-2019/#respond', 'published': 'Thu, 28 Nov 2019 05:01:00 +0000', 'published_parsed': time.struct_time(tm_year=2019, tm_mon=11, tm_mday=28, tm_hour=5, tm_min=1, tm_sec=0, tm_wday=3, tm_yday=332, tm_isdst=0), 'authors': [{'name': 'Nat Torkington'}], 'author': 'Nat Torkington', 'author_detail': {'name': 'Nat Torkington'}, 'tags': [{'term': 'Four Short Links', 'scheme': None, 'label': None}, {'term': 'Signals', 'scheme': None, 'label': None}], 'id': 'https://www.oreilly.com/radar/?p=11091', 'guidislink': False, 'summary': 'Raspberry Pi Recovery Kit &#8212; Pi for Preppers. Machine Learning on Encrypted data without Decrypting it &#8212; an intro to homomorphic encryption, with examples in Julia. Reverse Engineering for Beginners (PDF) &#8212; a solid introduction to reading assembly language from decompiles, to understand wtf is going on. Learning Data Structure Alchemy &#8212; Harvard paper on [&#8230;]', 'summary_detail': {'type': 'text/html', 'language': None, 'base': 'http://feeds.feedburner.com/oreilly/radar/atom', 'value': 'Raspberry Pi Recovery Kit &#8212; Pi for Preppers. Machine Learning on Encrypted data without Decrypting it &#8212; an intro to homomorphic encryption, with examples in Julia. Reverse Engineering for Beginners (PDF) &#8212; a solid introduction to reading assembly language from decompiles, to understand wtf is going on. Learning Data Structure Alchemy &#8212; Harvard paper on [&#8230;]'}, 'content': [{'type': 'text/html', 'language': None, 'base': 'http://feeds.feedburner.com/oreilly/radar/atom', 'value': '<ol><li><a href=\"https://back7.co/home/raspberry-pi-recovery-kit\">Raspberry Pi Recovery Kit</a> &#8212; Pi for Preppers.</li><li><a href=\"https://juliacomputing.com/blog/2019/11/22/encrypted-machine-learning.html\">Machine Learning on Encrypted data without Decrypting it</a> &#8212; an intro to homomorphic encryption, with examples in Julia.</li><li><a href=\"https://beginners.re/\">Reverse Engineering for Beginners</a> (PDF) &#8212; a solid introduction to reading assembly language from decompiles, to understand wtf is going on.</li><li><a href=\"https://stratos.seas.harvard.edu/publications/learning-data-structure-alchemy\">Learning Data Structure Alchemy</a> &#8212; Harvard paper on <em>the construction of an engine, a Data Alchemist, which learns how to blend fine-grained data structure design principles to automatically synthesize brand new data structures.</em></li></ol>\\n<img src=\"http://feeds.feedburner.com/~r/oreilly/radar/atom/~4/samIGFQ23n8\" height=\"1\" width=\"1\" alt=\"\"/>'}], 'wfw_commentrss': 'https://www.oreilly.com/radar/four-short-links-28-november-2019/feed/', 'slash_comments': '0', 'feedburner_origlink': 'https://www.oreilly.com/radar/four-short-links-28-november-2019/'}, {'title': 'Four short links: 27 November 2019', 'title_detail': {'type': 'text/plain', 'language': None, 'base': 'http://feeds.feedburner.com/oreilly/radar/atom', 'value': 'Four short links: 27 November 2019'}, 'links': [{'rel': 'alternate', 'type': 'text/html', 'href': 'http://feedproxy.google.com/~r/oreilly/radar/atom/~3/j4ydM_PprGk/'}], 'link': 'http://feedproxy.google.com/~r/oreilly/radar/atom/~3/j4ydM_PprGk/', 'comments': 'https://www.oreilly.com/radar/four-short-links-27-november-2019/#respond', 'published': 'Wed, 27 Nov 2019 05:01:00 +0000', 'published_parsed': time.struct_time(tm_year=2019, tm_mon=11, tm_mday=27, tm_hour=5, tm_min=1, tm_sec=0, tm_wday=2, tm_yday=331, tm_isdst=0), 'authors': [{'name': 'Nat Torkington'}], 'author': 'Nat Torkington', 'author_detail': {'name': 'Nat Torkington'}, 'tags': [{'term': 'Four Short Links', 'scheme': None, 'label': None}, {'term': 'Signals', 'scheme': None, 'label': None}], 'id': 'https://www.oreilly.com/radar/?p=11085', 'guidislink': False, 'summary': 'Comby &#8212; a tool for matching and rewriting code. Continuous Contrast Set Mining (Facebook) &#8212; effectively a paper on CCSM, an anomaly-detection framework that uses contrast set mining (CSM) techniques to locate statistically “interesting” (defined by several statistical properties) sets of features in groups. A novel algorithm we’ve developed extends standard contrast set mining from [&#8230;]', 'summary_detail': {'type': 'text/html', 'language': None, 'base': 'http://feeds.feedburner.com/oreilly/radar/atom', 'value': 'Comby &#8212; a tool for matching and rewriting code. Continuous Contrast Set Mining (Facebook) &#8212; effectively a paper on CCSM, an anomaly-detection framework that uses contrast set mining (CSM) techniques to locate statistically “interesting” (defined by several statistical properties) sets of features in groups. A novel algorithm we’ve developed extends standard contrast set mining from [&#8230;]'}, 'content': [{'type': 'text/html', 'language': None, 'base': 'http://feeds.feedburner.com/oreilly/radar/atom', 'value': '<ol><li><a href=\"https://comby.dev/\">Comby</a> &#8212; <em>a tool for matching and rewriting code</em>.</li><li><a href=\"https://engineering.fb.com/developer-tools/ccsm/\">Continuous Contrast Set Mining</a> (Facebook) &#8212; effectively a paper on CCSM, <em>an anomaly-detection framework that uses contrast set mining (CSM) techniques to locate statistically “interesting” (defined by several statistical properties) sets of features in groups. A novel algorithm we’ve developed extends standard contrast set mining from categorical data to continuous data, inspired by tree search algorithms and multiple hypothesis testing.</em></li><li><a href=\"https://blog.sigplan.org/2019/11/26/building-your-first-program-synthesizer/\">Building Your First Program Synthesizer</a> &#8212; <em>In this post, I want to get concrete and show what’s involved in building a synthesis tool. By the end of this post, we’ll have a tool that can synthesize simple arithmetic expressions.</em></li><li><a href=\"https://anonymoushash.vmbrasseur.com/2019/11/25/my-travel-habits/\">My Travel Habits</a> &#8212; some very good travel hacks from VM Brasseur, but I just needed to be told <em>the answer to “should I pack this?” is always “NO.”</em></li></ol>\\n<img src=\"http://feeds.feedburner.com/~r/oreilly/radar/atom/~4/j4ydM_PprGk\" height=\"1\" width=\"1\" alt=\"\"/>'}], 'wfw_commentrss': 'https://www.oreilly.com/radar/four-short-links-27-november-2019/feed/', 'slash_comments': '0', 'feedburner_origlink': 'https://www.oreilly.com/radar/four-short-links-27-november-2019/'}, {'title': 'Moving AI and ML from research into production', 'title_detail': {'type': 'text/plain', 'language': None, 'base': 'http://feeds.feedburner.com/oreilly/radar/atom', 'value': 'Moving AI and ML from research into production'}, 'links': [{'rel': 'alternate', 'type': 'text/html', 'href': 'http://feedproxy.google.com/~r/oreilly/radar/atom/~3/UuE-j1TFQLA/'}], 'link': 'http://feedproxy.google.com/~r/oreilly/radar/atom/~3/UuE-j1TFQLA/', 'comments': 'https://www.oreilly.com/radar/moving-ai-and-ml-from-the-research-realm-into-production/#respond', 'published': 'Tue, 26 Nov 2019 05:10:13 +0000', 'published_parsed': time.struct_time(tm_year=2019, tm_mon=11, tm_mday=26, tm_hour=5, tm_min=10, tm_sec=13, tm_wday=1, tm_yday=330, tm_isdst=0), 'authors': [{'name': 'Jenn Webb'}], 'author': 'Jenn Webb', 'author_detail': {'name': 'Jenn Webb'}, 'tags': [{'term': 'AI & ML', 'scheme': None, 'label': None}, {'term': 'Deep Dive', 'scheme': None, 'label': None}, {'term': \"Foo Camp '19\", 'scheme': None, 'label': None}], 'id': 'https://www.oreilly.com/radar/?p=10241', 'guidislink': False, 'summary': 'In this interview from O&#8217;Reilly Foo Camp 2019, Dean Wampler, head of evangelism at Anyscale.io, talks about moving AI and machine learning into real-time production environments. Highlights from the interview include: Facilitating the transition from research to production in a robust way introduces a number of complications, Wampler says, including governance, GDPR, and traceability rules. [&#8230;]', 'summary_detail': {'type': 'text/html', 'language': None, 'base': 'http://feeds.feedburner.com/oreilly/radar/atom', 'value': 'In this interview from O&#8217;Reilly Foo Camp 2019, Dean Wampler, head of evangelism at Anyscale.io, talks about moving AI and machine learning into real-time production environments. Highlights from the interview include: Facilitating the transition from research to production in a robust way introduces a number of complications, Wampler says, including governance, GDPR, and traceability rules. [&#8230;]'}, 'content': [{'type': 'text/html', 'language': None, 'base': 'http://feeds.feedburner.com/oreilly/radar/atom', 'value': '<p>In this interview from O&#8217;Reilly Foo Camp 2019, Dean Wampler, head of evangelism at Anyscale.io, talks about moving AI and machine learning  into real-time production environments.</p>\\n\\n\\n\\n<p>Highlights from the interview include:</p>\\n\\n\\n\\n<p>Facilitating the transition from research to production in a robust way introduces a number of complications, Wampler says, including governance, GDPR, and traceability rules. Noting the importance of traceability, he offers an example: &#8220;If I deploy a model that&#8217;s making credit card authorizations, and I keep rejecting someone&#8217;s card, and they come on and say, &#8216;I&#8217;m a member of a minority group, and you keep turning down my charges. Are you prejudiced against me?&#8217; or something like this, I need to know exactly what model was used and how it was trained. There are all kinds of logistical issues that have to be addressed in a real-world production environment.&#8221; (<a href=\"#t=75\">01:15</a>)</p>\\n\\n\\n\\n<p>In some cases, AI and machine learning technologies are being used to improve existing processes, rather than solving new problems. Wampler used car loan approvals as an example: &#8220;It used to take a day or so to get an auto loan, and that worked. You could just come back to the dealer the next day and dream about your beautiful car that night but not actually have it. Companies like Capital One have gotten that [loan approval process] down to seconds. You can get on the app and get an approval for a loan immediately. So, it&#8217;s not something that <em>had</em> to be done in a real-time context, but it changed the world, changed their business being able to do that. There&#8217;s a lot of these sort of pragmatic examples.&#8221; (<a href=\"#t=142\">02:22</a>)</p>\\n\\n\\n\\n<p>Wampler also discussed his personal interest in climate change and how individuals and businesses can use AI and machine learning tools to have a more significant influence than one might think. &#8220;What I&#8217;ve learned is there are a lot of little ways and big ways that add up when we&#8217;re working on stuff like this. One of the promises of tools like artificial intelligence is that it can automate human-level activity in a way that would not be feasible with actual humans doing it. More specifically, organizations like Google are already using sophisticated analytics to reduce the amount of energy they use and more efficiently utilize their machines. Individually, things like that are not going to solve climate change, but they add up. Every ton of carbon that you didn&#8217;t burn is one step in a solution toward the problem of climate change. For all of us, it really comes down to a whole spectrum of little things we can do that add up, from personal things like how we use energy, heat our homes, cook our food, and so forth, to thinking carefully about how we do our jobs and how we can be efficient in operationalizing these things, thinking about how we can help our customers achieve that, and then figuring out ways that we can have more direct influences.&#8221; (<a href=\"#t=260\">04:20</a>)</p>\\n<img src=\"http://feeds.feedburner.com/~r/oreilly/radar/atom/~4/UuE-j1TFQLA\" height=\"1\" width=\"1\" alt=\"\"/>'}], 'wfw_commentrss': 'https://www.oreilly.com/radar/moving-ai-and-ml-from-the-research-realm-into-production/feed/', 'slash_comments': '0', 'feedburner_origlink': 'https://www.oreilly.com/radar/moving-ai-and-ml-from-the-research-realm-into-production/'}], 'bozo': 0, 'headers': {'Content-Type': 'text/xml; charset=UTF-8', 'Last-Modified': 'Thu, 12 Dec 2019 15:31:54 GMT', 'Date': 'Thu, 12 Dec 2019 16:09:16 GMT', 'Expires': 'Thu, 12 Dec 2019 16:09:16 GMT', 'Cache-Control': 'private, max-age=0', 'X-Content-Type-Options': 'nosniff', 'X-XSS-Protection': '1; mode=block', 'Server': 'GSE', 'Accept-Ranges': 'none', 'Vary': 'Accept-Encoding', 'Transfer-Encoding': 'chunked'}, 'updated': 'Thu, 12 Dec 2019 15:31:54 GMT', 'updated_parsed': time.struct_time(tm_year=2019, tm_mon=12, tm_mday=12, tm_hour=15, tm_min=31, tm_sec=54, tm_wday=3, tm_yday=346, tm_isdst=0), 'href': 'http://feeds.feedburner.com/oreilly/radar/atom', 'status': 200, 'encoding': 'UTF-8', 'version': 'rss20', 'namespaces': {'content': 'http://purl.org/rss/1.0/modules/content/', 'wfw': 'http://wellformedweb.org/CommentAPI/', 'dc': 'http://purl.org/dc/elements/1.1/', '': 'http://www.w3.org/2005/Atom', 'sy': 'http://purl.org/rss/1.0/modules/syndication/', 'slash': 'http://purl.org/rss/1.0/modules/slash/', 'geo': 'http://www.w3.org/2003/01/geo/wgs84_pos#', 'feedburner': 'http://rssnamespace.org/feedburner/ext/1.0'}}\n"
     ]
    }
   ],
   "source": [
    "d = feedparser.parse(url)\n",
    "print(d)"
   ]
  },
  {
   "cell_type": "markdown",
   "metadata": {},
   "source": [
    "### 2. Obtain a list of components (keys) that are available for this feed."
   ]
  },
  {
   "cell_type": "code",
   "execution_count": 5,
   "metadata": {},
   "outputs": [
    {
     "data": {
      "text/plain": [
       "['feed',\n",
       " 'entries',\n",
       " 'bozo',\n",
       " 'headers',\n",
       " 'updated',\n",
       " 'updated_parsed',\n",
       " 'href',\n",
       " 'status',\n",
       " 'encoding',\n",
       " 'version',\n",
       " 'namespaces']"
      ]
     },
     "execution_count": 5,
     "metadata": {},
     "output_type": "execute_result"
    }
   ],
   "source": [
    "list(d)"
   ]
  },
  {
   "cell_type": "markdown",
   "metadata": {},
   "source": [
    "### 3. Obtain a list of components (keys) that are available for the *feed* component of this RSS feed."
   ]
  },
  {
   "cell_type": "code",
   "execution_count": 37,
   "metadata": {},
   "outputs": [
    {
     "data": {
      "text/plain": [
       "['title',\n",
       " 'title_detail',\n",
       " 'links',\n",
       " 'link',\n",
       " 'subtitle',\n",
       " 'subtitle_detail',\n",
       " 'updated',\n",
       " 'updated_parsed',\n",
       " 'language',\n",
       " 'sy_updateperiod',\n",
       " 'sy_updatefrequency',\n",
       " 'generator_detail',\n",
       " 'generator',\n",
       " 'feedburner_info',\n",
       " 'geo_lat',\n",
       " 'geo_long',\n",
       " 'feedburner_emailserviceid',\n",
       " 'feedburner_feedburnerhostname']"
      ]
     },
     "execution_count": 37,
     "metadata": {},
     "output_type": "execute_result"
    }
   ],
   "source": [
    "[i for i in d.feed]"
   ]
  },
  {
   "cell_type": "markdown",
   "metadata": {},
   "source": [
    "### 4. Extract and print the feed title, subtitle, author, and link."
   ]
  },
  {
   "cell_type": "code",
   "execution_count": 8,
   "metadata": {},
   "outputs": [
    {
     "name": "stdout",
     "output_type": "stream",
     "text": [
      "Radar\n",
      "Now, next, and beyond: Tracking need-to-know trends at the intersection of business and technology\n",
      "https://www.oreilly.com/radar\n"
     ]
    }
   ],
   "source": [
    "print(d.feed.title)\n",
    "print(d.feed.subtitle)\n",
    "print(d.feed.link)"
   ]
  },
  {
   "cell_type": "markdown",
   "metadata": {},
   "source": [
    "### 5. Count the number of entries that are contained in this RSS feed."
   ]
  },
  {
   "cell_type": "code",
   "execution_count": 35,
   "metadata": {},
   "outputs": [
    {
     "name": "stdout",
     "output_type": "stream",
     "text": [
      "18\n"
     ]
    }
   ],
   "source": [
    "print(len(d.entries))"
   ]
  },
  {
   "cell_type": "markdown",
   "metadata": {},
   "source": [
    "### 6. Obtain a list of components (keys) available for an entry.\n",
    "\n",
    "*Hint: Remember to index first before requesting the keys*"
   ]
  },
  {
   "cell_type": "code",
   "execution_count": 38,
   "metadata": {},
   "outputs": [
    {
     "data": {
      "text/plain": [
       "['title',\n",
       " 'title_detail',\n",
       " 'links',\n",
       " 'link',\n",
       " 'comments',\n",
       " 'published',\n",
       " 'published_parsed',\n",
       " 'authors',\n",
       " 'author',\n",
       " 'author_detail',\n",
       " 'tags',\n",
       " 'id',\n",
       " 'guidislink',\n",
       " 'summary',\n",
       " 'summary_detail',\n",
       " 'content',\n",
       " 'wfw_commentrss',\n",
       " 'slash_comments',\n",
       " 'feedburner_origlink']"
      ]
     },
     "execution_count": 38,
     "metadata": {},
     "output_type": "execute_result"
    }
   ],
   "source": [
    "list(d.entries[0])"
   ]
  },
  {
   "cell_type": "markdown",
   "metadata": {},
   "source": [
    "### 7. Extract a list of entry titles."
   ]
  },
  {
   "cell_type": "code",
   "execution_count": 48,
   "metadata": {},
   "outputs": [],
   "source": [
    "entry_t = [d.entries[i].title for i in range(0,18)]"
   ]
  },
  {
   "cell_type": "markdown",
   "metadata": {},
   "source": [
    "### 8. Calculate the percentage of \"Four short links\" entry titles."
   ]
  },
  {
   "cell_type": "code",
   "execution_count": 51,
   "metadata": {},
   "outputs": [
    {
     "name": "stdout",
     "output_type": "stream",
     "text": [
      "66.66666666666666\n"
     ]
    }
   ],
   "source": [
    "entry_t2 = [i for i in entry_t if i.startswith('Four short')]\n",
    "print(len(entry_t2)/len(entry_t)*100)\n"
   ]
  },
  {
   "cell_type": "markdown",
   "metadata": {},
   "source": [
    "### 9. Create a Pandas data frame from the feed's entries."
   ]
  },
  {
   "cell_type": "code",
   "execution_count": 52,
   "metadata": {},
   "outputs": [],
   "source": [
    "import pandas as pd"
   ]
  },
  {
   "cell_type": "code",
   "execution_count": 57,
   "metadata": {},
   "outputs": [
    {
     "data": {
      "text/html": [
       "<div>\n",
       "<style scoped>\n",
       "    .dataframe tbody tr th:only-of-type {\n",
       "        vertical-align: middle;\n",
       "    }\n",
       "\n",
       "    .dataframe tbody tr th {\n",
       "        vertical-align: top;\n",
       "    }\n",
       "\n",
       "    .dataframe thead th {\n",
       "        text-align: right;\n",
       "    }\n",
       "</style>\n",
       "<table border=\"1\" class=\"dataframe\">\n",
       "  <thead>\n",
       "    <tr style=\"text-align: right;\">\n",
       "      <th></th>\n",
       "      <th>title</th>\n",
       "      <th>title_detail</th>\n",
       "      <th>links</th>\n",
       "      <th>link</th>\n",
       "      <th>comments</th>\n",
       "      <th>published</th>\n",
       "      <th>published_parsed</th>\n",
       "      <th>authors</th>\n",
       "      <th>author</th>\n",
       "      <th>author_detail</th>\n",
       "      <th>tags</th>\n",
       "      <th>id</th>\n",
       "      <th>guidislink</th>\n",
       "      <th>summary</th>\n",
       "      <th>summary_detail</th>\n",
       "      <th>content</th>\n",
       "      <th>wfw_commentrss</th>\n",
       "      <th>slash_comments</th>\n",
       "      <th>feedburner_origlink</th>\n",
       "    </tr>\n",
       "  </thead>\n",
       "  <tbody>\n",
       "    <tr>\n",
       "      <th>0</th>\n",
       "      <td>Why you should care about debugging machine le...</td>\n",
       "      <td>{'type': 'text/plain', 'language': None, 'base...</td>\n",
       "      <td>[{'rel': 'alternate', 'type': 'text/html', 'hr...</td>\n",
       "      <td>http://feedproxy.google.com/~r/oreilly/radar/a...</td>\n",
       "      <td>https://www.oreilly.com/radar/why-you-should-c...</td>\n",
       "      <td>Thu, 12 Dec 2019 11:00:00 +0000</td>\n",
       "      <td>(2019, 12, 12, 11, 0, 0, 3, 346, 0)</td>\n",
       "      <td>[{'name': 'Patrick Hall and Andrew Burt'}]</td>\n",
       "      <td>Patrick Hall and Andrew Burt</td>\n",
       "      <td>{'name': 'Patrick Hall and Andrew Burt'}</td>\n",
       "      <td>[{'term': 'AI &amp; ML', 'scheme': None, 'label': ...</td>\n",
       "      <td>https://www.oreilly.com/radar/?p=11197</td>\n",
       "      <td>False</td>\n",
       "      <td>For all the excitement about machine learning ...</td>\n",
       "      <td>{'type': 'text/html', 'language': None, 'base'...</td>\n",
       "      <td>[{'type': 'text/html', 'language': None, 'base...</td>\n",
       "      <td>https://www.oreilly.com/radar/why-you-should-c...</td>\n",
       "      <td>0</td>\n",
       "      <td>https://www.oreilly.com/radar/why-you-should-c...</td>\n",
       "    </tr>\n",
       "    <tr>\n",
       "      <th>1</th>\n",
       "      <td>Four short links: 12 December 2019</td>\n",
       "      <td>{'type': 'text/plain', 'language': None, 'base...</td>\n",
       "      <td>[{'rel': 'alternate', 'type': 'text/html', 'hr...</td>\n",
       "      <td>http://feedproxy.google.com/~r/oreilly/radar/a...</td>\n",
       "      <td>https://www.oreilly.com/radar/four-short-links...</td>\n",
       "      <td>Thu, 12 Dec 2019 05:01:00 +0000</td>\n",
       "      <td>(2019, 12, 12, 5, 1, 0, 3, 346, 0)</td>\n",
       "      <td>[{'name': 'Nat Torkington'}]</td>\n",
       "      <td>Nat Torkington</td>\n",
       "      <td>{'name': 'Nat Torkington'}</td>\n",
       "      <td>[{'term': 'Four Short Links', 'scheme': None, ...</td>\n",
       "      <td>https://www.oreilly.com/radar/?p=11251</td>\n",
       "      <td>False</td>\n",
       "      <td>Social Science One Advisory Group Fingers Face...</td>\n",
       "      <td>{'type': 'text/html', 'language': None, 'base'...</td>\n",
       "      <td>[{'type': 'text/html', 'language': None, 'base...</td>\n",
       "      <td>https://www.oreilly.com/radar/four-short-links...</td>\n",
       "      <td>0</td>\n",
       "      <td>https://www.oreilly.com/radar/four-short-links...</td>\n",
       "    </tr>\n",
       "    <tr>\n",
       "      <th>2</th>\n",
       "      <td>Four short links: 11 December 2019</td>\n",
       "      <td>{'type': 'text/plain', 'language': None, 'base...</td>\n",
       "      <td>[{'rel': 'alternate', 'type': 'text/html', 'hr...</td>\n",
       "      <td>http://feedproxy.google.com/~r/oreilly/radar/a...</td>\n",
       "      <td>https://www.oreilly.com/radar/four-short-links...</td>\n",
       "      <td>Wed, 11 Dec 2019 05:01:00 +0000</td>\n",
       "      <td>(2019, 12, 11, 5, 1, 0, 2, 345, 0)</td>\n",
       "      <td>[{'name': 'Nat Torkington'}]</td>\n",
       "      <td>Nat Torkington</td>\n",
       "      <td>{'name': 'Nat Torkington'}</td>\n",
       "      <td>[{'term': 'Four Short Links', 'scheme': None, ...</td>\n",
       "      <td>https://www.oreilly.com/radar/?p=11222</td>\n",
       "      <td>False</td>\n",
       "      <td>disaster.radio &amp;#8212; a disaster-resilient co...</td>\n",
       "      <td>{'type': 'text/html', 'language': None, 'base'...</td>\n",
       "      <td>[{'type': 'text/html', 'language': None, 'base...</td>\n",
       "      <td>https://www.oreilly.com/radar/four-short-links...</td>\n",
       "      <td>0</td>\n",
       "      <td>https://www.oreilly.com/radar/four-short-links...</td>\n",
       "    </tr>\n",
       "    <tr>\n",
       "      <th>3</th>\n",
       "      <td>The road to Software 2.0</td>\n",
       "      <td>{'type': 'text/plain', 'language': None, 'base...</td>\n",
       "      <td>[{'rel': 'alternate', 'type': 'text/html', 'hr...</td>\n",
       "      <td>http://feedproxy.google.com/~r/oreilly/radar/a...</td>\n",
       "      <td>https://www.oreilly.com/radar/the-road-to-soft...</td>\n",
       "      <td>Tue, 10 Dec 2019 11:00:00 +0000</td>\n",
       "      <td>(2019, 12, 10, 11, 0, 0, 1, 344, 0)</td>\n",
       "      <td>[{'name': 'Mike Loukides and Ben Lorica'}]</td>\n",
       "      <td>Mike Loukides and Ben Lorica</td>\n",
       "      <td>{'name': 'Mike Loukides and Ben Lorica'}</td>\n",
       "      <td>[{'term': 'AI &amp; ML', 'scheme': None, 'label': ...</td>\n",
       "      <td>https://www.oreilly.com/radar/?p=11155</td>\n",
       "      <td>False</td>\n",
       "      <td>Roughly a year ago, we wrote “What machine lea...</td>\n",
       "      <td>{'type': 'text/html', 'language': None, 'base'...</td>\n",
       "      <td>[{'type': 'text/html', 'language': None, 'base...</td>\n",
       "      <td>https://www.oreilly.com/radar/the-road-to-soft...</td>\n",
       "      <td>0</td>\n",
       "      <td>https://www.oreilly.com/radar/the-road-to-soft...</td>\n",
       "    </tr>\n",
       "    <tr>\n",
       "      <th>4</th>\n",
       "      <td>Four short links: 10 December 2019</td>\n",
       "      <td>{'type': 'text/plain', 'language': None, 'base...</td>\n",
       "      <td>[{'rel': 'alternate', 'type': 'text/html', 'hr...</td>\n",
       "      <td>http://feedproxy.google.com/~r/oreilly/radar/a...</td>\n",
       "      <td>https://www.oreilly.com/radar/four-short-links...</td>\n",
       "      <td>Tue, 10 Dec 2019 05:01:00 +0000</td>\n",
       "      <td>(2019, 12, 10, 5, 1, 0, 1, 344, 0)</td>\n",
       "      <td>[{'name': 'Nat Torkington'}]</td>\n",
       "      <td>Nat Torkington</td>\n",
       "      <td>{'name': 'Nat Torkington'}</td>\n",
       "      <td>[{'term': 'Four Short Links', 'scheme': None, ...</td>\n",
       "      <td>https://www.oreilly.com/radar/?p=11192</td>\n",
       "      <td>False</td>\n",
       "      <td>The Hidden Worries of Facial Recognition Techn...</td>\n",
       "      <td>{'type': 'text/html', 'language': None, 'base'...</td>\n",
       "      <td>[{'type': 'text/html', 'language': None, 'base...</td>\n",
       "      <td>https://www.oreilly.com/radar/four-short-links...</td>\n",
       "      <td>0</td>\n",
       "      <td>https://www.oreilly.com/radar/four-short-links...</td>\n",
       "    </tr>\n",
       "  </tbody>\n",
       "</table>\n",
       "</div>"
      ],
      "text/plain": [
       "                                               title  \\\n",
       "0  Why you should care about debugging machine le...   \n",
       "1                 Four short links: 12 December 2019   \n",
       "2                 Four short links: 11 December 2019   \n",
       "3                           The road to Software 2.0   \n",
       "4                 Four short links: 10 December 2019   \n",
       "\n",
       "                                        title_detail  \\\n",
       "0  {'type': 'text/plain', 'language': None, 'base...   \n",
       "1  {'type': 'text/plain', 'language': None, 'base...   \n",
       "2  {'type': 'text/plain', 'language': None, 'base...   \n",
       "3  {'type': 'text/plain', 'language': None, 'base...   \n",
       "4  {'type': 'text/plain', 'language': None, 'base...   \n",
       "\n",
       "                                               links  \\\n",
       "0  [{'rel': 'alternate', 'type': 'text/html', 'hr...   \n",
       "1  [{'rel': 'alternate', 'type': 'text/html', 'hr...   \n",
       "2  [{'rel': 'alternate', 'type': 'text/html', 'hr...   \n",
       "3  [{'rel': 'alternate', 'type': 'text/html', 'hr...   \n",
       "4  [{'rel': 'alternate', 'type': 'text/html', 'hr...   \n",
       "\n",
       "                                                link  \\\n",
       "0  http://feedproxy.google.com/~r/oreilly/radar/a...   \n",
       "1  http://feedproxy.google.com/~r/oreilly/radar/a...   \n",
       "2  http://feedproxy.google.com/~r/oreilly/radar/a...   \n",
       "3  http://feedproxy.google.com/~r/oreilly/radar/a...   \n",
       "4  http://feedproxy.google.com/~r/oreilly/radar/a...   \n",
       "\n",
       "                                            comments  \\\n",
       "0  https://www.oreilly.com/radar/why-you-should-c...   \n",
       "1  https://www.oreilly.com/radar/four-short-links...   \n",
       "2  https://www.oreilly.com/radar/four-short-links...   \n",
       "3  https://www.oreilly.com/radar/the-road-to-soft...   \n",
       "4  https://www.oreilly.com/radar/four-short-links...   \n",
       "\n",
       "                         published                     published_parsed  \\\n",
       "0  Thu, 12 Dec 2019 11:00:00 +0000  (2019, 12, 12, 11, 0, 0, 3, 346, 0)   \n",
       "1  Thu, 12 Dec 2019 05:01:00 +0000   (2019, 12, 12, 5, 1, 0, 3, 346, 0)   \n",
       "2  Wed, 11 Dec 2019 05:01:00 +0000   (2019, 12, 11, 5, 1, 0, 2, 345, 0)   \n",
       "3  Tue, 10 Dec 2019 11:00:00 +0000  (2019, 12, 10, 11, 0, 0, 1, 344, 0)   \n",
       "4  Tue, 10 Dec 2019 05:01:00 +0000   (2019, 12, 10, 5, 1, 0, 1, 344, 0)   \n",
       "\n",
       "                                      authors                        author  \\\n",
       "0  [{'name': 'Patrick Hall and Andrew Burt'}]  Patrick Hall and Andrew Burt   \n",
       "1                [{'name': 'Nat Torkington'}]                Nat Torkington   \n",
       "2                [{'name': 'Nat Torkington'}]                Nat Torkington   \n",
       "3  [{'name': 'Mike Loukides and Ben Lorica'}]  Mike Loukides and Ben Lorica   \n",
       "4                [{'name': 'Nat Torkington'}]                Nat Torkington   \n",
       "\n",
       "                              author_detail  \\\n",
       "0  {'name': 'Patrick Hall and Andrew Burt'}   \n",
       "1                {'name': 'Nat Torkington'}   \n",
       "2                {'name': 'Nat Torkington'}   \n",
       "3  {'name': 'Mike Loukides and Ben Lorica'}   \n",
       "4                {'name': 'Nat Torkington'}   \n",
       "\n",
       "                                                tags  \\\n",
       "0  [{'term': 'AI & ML', 'scheme': None, 'label': ...   \n",
       "1  [{'term': 'Four Short Links', 'scheme': None, ...   \n",
       "2  [{'term': 'Four Short Links', 'scheme': None, ...   \n",
       "3  [{'term': 'AI & ML', 'scheme': None, 'label': ...   \n",
       "4  [{'term': 'Four Short Links', 'scheme': None, ...   \n",
       "\n",
       "                                       id  guidislink  \\\n",
       "0  https://www.oreilly.com/radar/?p=11197       False   \n",
       "1  https://www.oreilly.com/radar/?p=11251       False   \n",
       "2  https://www.oreilly.com/radar/?p=11222       False   \n",
       "3  https://www.oreilly.com/radar/?p=11155       False   \n",
       "4  https://www.oreilly.com/radar/?p=11192       False   \n",
       "\n",
       "                                             summary  \\\n",
       "0  For all the excitement about machine learning ...   \n",
       "1  Social Science One Advisory Group Fingers Face...   \n",
       "2  disaster.radio &#8212; a disaster-resilient co...   \n",
       "3  Roughly a year ago, we wrote “What machine lea...   \n",
       "4  The Hidden Worries of Facial Recognition Techn...   \n",
       "\n",
       "                                      summary_detail  \\\n",
       "0  {'type': 'text/html', 'language': None, 'base'...   \n",
       "1  {'type': 'text/html', 'language': None, 'base'...   \n",
       "2  {'type': 'text/html', 'language': None, 'base'...   \n",
       "3  {'type': 'text/html', 'language': None, 'base'...   \n",
       "4  {'type': 'text/html', 'language': None, 'base'...   \n",
       "\n",
       "                                             content  \\\n",
       "0  [{'type': 'text/html', 'language': None, 'base...   \n",
       "1  [{'type': 'text/html', 'language': None, 'base...   \n",
       "2  [{'type': 'text/html', 'language': None, 'base...   \n",
       "3  [{'type': 'text/html', 'language': None, 'base...   \n",
       "4  [{'type': 'text/html', 'language': None, 'base...   \n",
       "\n",
       "                                      wfw_commentrss slash_comments  \\\n",
       "0  https://www.oreilly.com/radar/why-you-should-c...              0   \n",
       "1  https://www.oreilly.com/radar/four-short-links...              0   \n",
       "2  https://www.oreilly.com/radar/four-short-links...              0   \n",
       "3  https://www.oreilly.com/radar/the-road-to-soft...              0   \n",
       "4  https://www.oreilly.com/radar/four-short-links...              0   \n",
       "\n",
       "                                 feedburner_origlink  \n",
       "0  https://www.oreilly.com/radar/why-you-should-c...  \n",
       "1  https://www.oreilly.com/radar/four-short-links...  \n",
       "2  https://www.oreilly.com/radar/four-short-links...  \n",
       "3  https://www.oreilly.com/radar/the-road-to-soft...  \n",
       "4  https://www.oreilly.com/radar/four-short-links...  "
      ]
     },
     "execution_count": 57,
     "metadata": {},
     "output_type": "execute_result"
    }
   ],
   "source": [
    "df = pd.DataFrame(d.entries)\n",
    "df.head()"
   ]
  },
  {
   "cell_type": "markdown",
   "metadata": {},
   "source": [
    "### 10. Count the number of entries per author and sort them in descending order."
   ]
  },
  {
   "cell_type": "code",
   "execution_count": 62,
   "metadata": {},
   "outputs": [
    {
     "data": {
      "text/plain": [
       "Nat Torkington                  12\n",
       "Mike Loukides                    2\n",
       "Mike Loukides and Ben Lorica     1\n",
       "Jenn Webb                        1\n",
       "Patrick Hall and Andrew Burt     1\n",
       "Pamela Rucker                    1\n",
       "Name: author, dtype: int64"
      ]
     },
     "execution_count": 62,
     "metadata": {},
     "output_type": "execute_result"
    }
   ],
   "source": [
    "df['author'].value_counts().sort_values(ascending=False)"
   ]
  },
  {
   "cell_type": "markdown",
   "metadata": {},
   "source": [
    "### 11. Add a new column to the data frame that contains the length (number of characters) of each entry title. Return a data frame that contains the title, author, and title length of each entry in descending order (longest title length at the top)."
   ]
  },
  {
   "cell_type": "code",
   "execution_count": 69,
   "metadata": {},
   "outputs": [
    {
     "data": {
      "text/html": [
       "<div>\n",
       "<style scoped>\n",
       "    .dataframe tbody tr th:only-of-type {\n",
       "        vertical-align: middle;\n",
       "    }\n",
       "\n",
       "    .dataframe tbody tr th {\n",
       "        vertical-align: top;\n",
       "    }\n",
       "\n",
       "    .dataframe thead th {\n",
       "        text-align: right;\n",
       "    }\n",
       "</style>\n",
       "<table border=\"1\" class=\"dataframe\">\n",
       "  <thead>\n",
       "    <tr style=\"text-align: right;\">\n",
       "      <th></th>\n",
       "      <th>title</th>\n",
       "      <th>author</th>\n",
       "      <th>new</th>\n",
       "    </tr>\n",
       "  </thead>\n",
       "  <tbody>\n",
       "    <tr>\n",
       "      <th>0</th>\n",
       "      <td>Why you should care about debugging machine le...</td>\n",
       "      <td>Patrick Hall and Andrew Burt</td>\n",
       "      <td>59</td>\n",
       "    </tr>\n",
       "    <tr>\n",
       "      <th>17</th>\n",
       "      <td>Moving AI and ML from research into production</td>\n",
       "      <td>Jenn Webb</td>\n",
       "      <td>46</td>\n",
       "    </tr>\n",
       "    <tr>\n",
       "      <th>10</th>\n",
       "      <td>Use your people as competitive advantage</td>\n",
       "      <td>Pamela Rucker</td>\n",
       "      <td>40</td>\n",
       "    </tr>\n",
       "    <tr>\n",
       "      <th>7</th>\n",
       "      <td>Radar trends to watch: December 2019</td>\n",
       "      <td>Mike Loukides</td>\n",
       "      <td>36</td>\n",
       "    </tr>\n",
       "    <tr>\n",
       "      <th>2</th>\n",
       "      <td>Four short links: 11 December 2019</td>\n",
       "      <td>Nat Torkington</td>\n",
       "      <td>34</td>\n",
       "    </tr>\n",
       "    <tr>\n",
       "      <th>4</th>\n",
       "      <td>Four short links: 10 December 2019</td>\n",
       "      <td>Nat Torkington</td>\n",
       "      <td>34</td>\n",
       "    </tr>\n",
       "    <tr>\n",
       "      <th>1</th>\n",
       "      <td>Four short links: 12 December 2019</td>\n",
       "      <td>Nat Torkington</td>\n",
       "      <td>34</td>\n",
       "    </tr>\n",
       "    <tr>\n",
       "      <th>14</th>\n",
       "      <td>Four short links: 29 November 2019</td>\n",
       "      <td>Nat Torkington</td>\n",
       "      <td>34</td>\n",
       "    </tr>\n",
       "    <tr>\n",
       "      <th>15</th>\n",
       "      <td>Four short links: 28 November 2019</td>\n",
       "      <td>Nat Torkington</td>\n",
       "      <td>34</td>\n",
       "    </tr>\n",
       "    <tr>\n",
       "      <th>16</th>\n",
       "      <td>Four short links: 27 November 2019</td>\n",
       "      <td>Nat Torkington</td>\n",
       "      <td>34</td>\n",
       "    </tr>\n",
       "    <tr>\n",
       "      <th>5</th>\n",
       "      <td>Four short links: 9 December 2019</td>\n",
       "      <td>Nat Torkington</td>\n",
       "      <td>33</td>\n",
       "    </tr>\n",
       "    <tr>\n",
       "      <th>6</th>\n",
       "      <td>Four short links: 6 December 2019</td>\n",
       "      <td>Nat Torkington</td>\n",
       "      <td>33</td>\n",
       "    </tr>\n",
       "    <tr>\n",
       "      <th>8</th>\n",
       "      <td>Four short links: 5 December 2019</td>\n",
       "      <td>Nat Torkington</td>\n",
       "      <td>33</td>\n",
       "    </tr>\n",
       "    <tr>\n",
       "      <th>11</th>\n",
       "      <td>Four short links: 3 December 2019</td>\n",
       "      <td>Nat Torkington</td>\n",
       "      <td>33</td>\n",
       "    </tr>\n",
       "    <tr>\n",
       "      <th>13</th>\n",
       "      <td>Four short links: 2 December 2019</td>\n",
       "      <td>Nat Torkington</td>\n",
       "      <td>33</td>\n",
       "    </tr>\n",
       "    <tr>\n",
       "      <th>9</th>\n",
       "      <td>Four short links: 4 December 2019</td>\n",
       "      <td>Nat Torkington</td>\n",
       "      <td>33</td>\n",
       "    </tr>\n",
       "    <tr>\n",
       "      <th>3</th>\n",
       "      <td>The road to Software 2.0</td>\n",
       "      <td>Mike Loukides and Ben Lorica</td>\n",
       "      <td>24</td>\n",
       "    </tr>\n",
       "    <tr>\n",
       "      <th>12</th>\n",
       "      <td>A 5G future</td>\n",
       "      <td>Mike Loukides</td>\n",
       "      <td>11</td>\n",
       "    </tr>\n",
       "  </tbody>\n",
       "</table>\n",
       "</div>"
      ],
      "text/plain": [
       "                                                title  \\\n",
       "0   Why you should care about debugging machine le...   \n",
       "17     Moving AI and ML from research into production   \n",
       "10           Use your people as competitive advantage   \n",
       "7                Radar trends to watch: December 2019   \n",
       "2                  Four short links: 11 December 2019   \n",
       "4                  Four short links: 10 December 2019   \n",
       "1                  Four short links: 12 December 2019   \n",
       "14                 Four short links: 29 November 2019   \n",
       "15                 Four short links: 28 November 2019   \n",
       "16                 Four short links: 27 November 2019   \n",
       "5                   Four short links: 9 December 2019   \n",
       "6                   Four short links: 6 December 2019   \n",
       "8                   Four short links: 5 December 2019   \n",
       "11                  Four short links: 3 December 2019   \n",
       "13                  Four short links: 2 December 2019   \n",
       "9                   Four short links: 4 December 2019   \n",
       "3                            The road to Software 2.0   \n",
       "12                                        A 5G future   \n",
       "\n",
       "                          author  new  \n",
       "0   Patrick Hall and Andrew Burt   59  \n",
       "17                     Jenn Webb   46  \n",
       "10                 Pamela Rucker   40  \n",
       "7                  Mike Loukides   36  \n",
       "2                 Nat Torkington   34  \n",
       "4                 Nat Torkington   34  \n",
       "1                 Nat Torkington   34  \n",
       "14                Nat Torkington   34  \n",
       "15                Nat Torkington   34  \n",
       "16                Nat Torkington   34  \n",
       "5                 Nat Torkington   33  \n",
       "6                 Nat Torkington   33  \n",
       "8                 Nat Torkington   33  \n",
       "11                Nat Torkington   33  \n",
       "13                Nat Torkington   33  \n",
       "9                 Nat Torkington   33  \n",
       "3   Mike Loukides and Ben Lorica   24  \n",
       "12                 Mike Loukides   11  "
      ]
     },
     "execution_count": 69,
     "metadata": {},
     "output_type": "execute_result"
    }
   ],
   "source": [
    "df['new'] = [len(i) for i in df['title']]\n",
    "df[['title', 'author', 'new']].sort_values(by='new', ascending=False)"
   ]
  },
  {
   "cell_type": "markdown",
   "metadata": {},
   "source": [
    "### 12. Create a list of entry titles whose summary includes the phrase \"machine learning.\""
   ]
  },
  {
   "cell_type": "code",
   "execution_count": 75,
   "metadata": {},
   "outputs": [
    {
     "data": {
      "text/plain": [
       "['Why you should care about debugging machine learning models',\n",
       " 'The road to Software 2.0',\n",
       " 'Moving AI and ML from research into production']"
      ]
     },
     "metadata": {},
     "output_type": "display_data"
    }
   ],
   "source": [
    "ml_list = [df['title'][i] for i in range(len(df)) if 'machine learning' in df['summary'][i]]\n",
    "display(ml_list)"
   ]
  },
  {
   "cell_type": "code",
   "execution_count": null,
   "metadata": {},
   "outputs": [],
   "source": []
  }
 ],
 "metadata": {
  "kernelspec": {
   "display_name": "Python 3",
   "language": "python",
   "name": "python3"
  },
  "language_info": {
   "codemirror_mode": {
    "name": "ipython",
    "version": 3
   },
   "file_extension": ".py",
   "mimetype": "text/x-python",
   "name": "python",
   "nbconvert_exporter": "python",
   "pygments_lexer": "ipython3",
   "version": "3.7.5"
  }
 },
 "nbformat": 4,
 "nbformat_minor": 2
}
