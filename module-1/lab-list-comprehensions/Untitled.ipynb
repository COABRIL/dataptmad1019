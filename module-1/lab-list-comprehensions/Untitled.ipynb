{
 "cells": [
  {
   "cell_type": "code",
   "execution_count": 1,
   "metadata": {},
   "outputs": [
    {
     "name": "stdout",
     "output_type": "stream",
     "text": [
      "HelloWorld\n"
     ]
    }
   ],
   "source": [
    "print('Hello' + 'World')"
   ]
  },
  {
   "cell_type": "code",
   "execution_count": 2,
   "metadata": {},
   "outputs": [
    {
     "name": "stdout",
     "output_type": "stream",
     "text": [
      "Hello beautiful1 dog\n",
      "Hello beautiful2 dog\n",
      "Hello beautiful3 dog\n"
     ]
    }
   ],
   "source": [
    "a = 'Hello'\n",
    "b = 'dog'\n",
    "#La forma guarra de hacerlo... esto no es operativo!\n",
    "print (a + ' ' + 'beautiful1' + ' ' + b)\n",
    "#Esto no se utiliza\n",
    "print ('{0} beautiful2 {1}'.format(a,b))\n",
    "#Esta es la que SÍ HAY QUE UTILIZAR\n",
    "print (f'{a} beautiful3 {b}')\n"
   ]
  },
  {
   "cell_type": "code",
   "execution_count": 7,
   "metadata": {},
   "outputs": [
    {
     "name": "stdout",
     "output_type": "stream",
     "text": [
      "HappyPuppies\n",
      "H;a;p;p;y;P;u;p;p;i;e;s\n"
     ]
    }
   ],
   "source": [
    "x = 'Happy'\n",
    "y = 'Puppies'\n",
    "z = x + y\n",
    "\n",
    "print(z)\n",
    "print (';'.join(z))\n"
   ]
  },
  {
   "cell_type": "code",
   "execution_count": null,
   "metadata": {},
   "outputs": [],
   "source": []
  },
  {
   "cell_type": "markdown",
   "metadata": {},
   "source": []
  }
 ],
 "metadata": {
  "kernelspec": {
   "display_name": "Python 3",
   "language": "python",
   "name": "python3"
  },
  "language_info": {
   "codemirror_mode": {
    "name": "ipython",
    "version": 3
   },
   "file_extension": ".py",
   "mimetype": "text/x-python",
   "name": "python",
   "nbconvert_exporter": "python",
   "pygments_lexer": "ipython3",
   "version": "3.7.5"
  }
 },
 "nbformat": 4,
 "nbformat_minor": 4
}
