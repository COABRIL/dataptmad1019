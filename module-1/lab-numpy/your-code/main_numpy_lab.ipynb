{
 "cells": [
  {
   "cell_type": "code",
   "execution_count": 27,
   "metadata": {},
   "outputs": [],
   "source": [
    "#1. Import the NUMPY package under the name np.\n",
    "import numpy as np\n"
   ]
  },
  {
   "cell_type": "code",
   "execution_count": 28,
   "metadata": {},
   "outputs": [
    {
     "name": "stdout",
     "output_type": "stream",
     "text": [
      "numpy==1.17.2\r\n"
     ]
    }
   ],
   "source": [
    "#2. Print the NUMPY version and the configuration.\n",
    "!pip freeze | grep numpy"
   ]
  },
  {
   "cell_type": "code",
   "execution_count": 29,
   "metadata": {},
   "outputs": [],
   "source": [
    "#3. Generate a 2x3x5 3-dimensional array with random values. Assign the array to variable \"a\"\n",
    "# Challenge: there are at least three easy ways that use numpy to generate random arrays. How many ways can you find?\n",
    "a = np.random.random ((2,3,5))"
   ]
  },
  {
   "cell_type": "code",
   "execution_count": 30,
   "metadata": {},
   "outputs": [
    {
     "name": "stdout",
     "output_type": "stream",
     "text": [
      "[[[0.0042205  0.20827069 0.54977793 0.2570855  0.88169368]\n",
      "  [0.69334548 0.38962707 0.58634714 0.18408287 0.00198113]\n",
      "  [0.99614523 0.63432761 0.10084039 0.87888807 0.29773102]]\n",
      "\n",
      " [[0.77015482 0.9387764  0.23934335 0.34730139 0.49943491]\n",
      "  [0.01090752 0.92061482 0.17727348 0.0588388  0.25811895]\n",
      "  [0.82281798 0.02463461 0.87282068 0.99115233 0.71260933]]]\n"
     ]
    }
   ],
   "source": [
    "#4. Print a.\n",
    "print (a)"
   ]
  },
  {
   "cell_type": "code",
   "execution_count": 31,
   "metadata": {},
   "outputs": [],
   "source": [
    "#5. Create a 5x2x3 3-dimensional array with all values equaling 1.\n",
    "#Assign the array to variable \"b\"\n",
    "b = np.zeros ((5,2,3))"
   ]
  },
  {
   "cell_type": "code",
   "execution_count": 32,
   "metadata": {},
   "outputs": [
    {
     "name": "stdout",
     "output_type": "stream",
     "text": [
      "[[[0. 0. 0.]\n",
      "  [0. 0. 0.]]\n",
      "\n",
      " [[0. 0. 0.]\n",
      "  [0. 0. 0.]]\n",
      "\n",
      " [[0. 0. 0.]\n",
      "  [0. 0. 0.]]\n",
      "\n",
      " [[0. 0. 0.]\n",
      "  [0. 0. 0.]]\n",
      "\n",
      " [[0. 0. 0.]\n",
      "  [0. 0. 0.]]]\n"
     ]
    }
   ],
   "source": [
    "#6. Print b.\n",
    "print (b)"
   ]
  },
  {
   "cell_type": "code",
   "execution_count": 33,
   "metadata": {},
   "outputs": [
    {
     "data": {
      "text/plain": [
       "False"
      ]
     },
     "execution_count": 33,
     "metadata": {},
     "output_type": "execute_result"
    }
   ],
   "source": [
    "#7. Do a and b have the same size? How do you prove that in Python code?\n",
    "np.shape (a) == np.shape (b)"
   ]
  },
  {
   "cell_type": "code",
   "execution_count": 34,
   "metadata": {},
   "outputs": [],
   "source": [
    "#8. Are you able to add a and b? Why or why not?\n",
    "\n",
    "#No, cos they don't have the same size."
   ]
  },
  {
   "cell_type": "code",
   "execution_count": 35,
   "metadata": {},
   "outputs": [
    {
     "name": "stdout",
     "output_type": "stream",
     "text": [
      "[[[0. 0. 0. 0. 0.]\n",
      "  [0. 0. 0. 0. 0.]\n",
      "  [0. 0. 0. 0. 0.]]\n",
      "\n",
      " [[0. 0. 0. 0. 0.]\n",
      "  [0. 0. 0. 0. 0.]\n",
      "  [0. 0. 0. 0. 0.]]]\n",
      "[[[0.0042205  0.20827069 0.54977793 0.2570855  0.88169368]\n",
      "  [0.69334548 0.38962707 0.58634714 0.18408287 0.00198113]\n",
      "  [0.99614523 0.63432761 0.10084039 0.87888807 0.29773102]]\n",
      "\n",
      " [[0.77015482 0.9387764  0.23934335 0.34730139 0.49943491]\n",
      "  [0.01090752 0.92061482 0.17727348 0.0588388  0.25811895]\n",
      "  [0.82281798 0.02463461 0.87282068 0.99115233 0.71260933]]]\n"
     ]
    }
   ],
   "source": [
    "#9. Transpose b so that it has the same structure of a (i.e. become a 2x3x5 array). \n",
    "#Assign the transposed array to varialbe \"c\".\n",
    "c = b.reshape (2,3,5)\n",
    "print(c)\n",
    "print(a)"
   ]
  },
  {
   "cell_type": "code",
   "execution_count": 36,
   "metadata": {},
   "outputs": [],
   "source": [
    "#10. Try to add a and c. Now it should work. Assign the sum to varialbe \"d\". But why does it work now?\n",
    "d = a + c"
   ]
  },
  {
   "cell_type": "code",
   "execution_count": 37,
   "metadata": {},
   "outputs": [
    {
     "name": "stdout",
     "output_type": "stream",
     "text": [
      "[[[0.0042205  0.20827069 0.54977793 0.2570855  0.88169368]\n",
      "  [0.69334548 0.38962707 0.58634714 0.18408287 0.00198113]\n",
      "  [0.99614523 0.63432761 0.10084039 0.87888807 0.29773102]]\n",
      "\n",
      " [[0.77015482 0.9387764  0.23934335 0.34730139 0.49943491]\n",
      "  [0.01090752 0.92061482 0.17727348 0.0588388  0.25811895]\n",
      "  [0.82281798 0.02463461 0.87282068 0.99115233 0.71260933]]]\n",
      "[[[0.0042205  0.20827069 0.54977793 0.2570855  0.88169368]\n",
      "  [0.69334548 0.38962707 0.58634714 0.18408287 0.00198113]\n",
      "  [0.99614523 0.63432761 0.10084039 0.87888807 0.29773102]]\n",
      "\n",
      " [[0.77015482 0.9387764  0.23934335 0.34730139 0.49943491]\n",
      "  [0.01090752 0.92061482 0.17727348 0.0588388  0.25811895]\n",
      "  [0.82281798 0.02463461 0.87282068 0.99115233 0.71260933]]]\n"
     ]
    }
   ],
   "source": [
    "#11. Print a and d. Notice the difference and relation of the two array in terms of the values? Explain.\n",
    "print (a)\n",
    "print (d)"
   ]
  },
  {
   "cell_type": "code",
   "execution_count": 38,
   "metadata": {},
   "outputs": [],
   "source": [
    "#12. Multiply a and c. Assign the result to e.\n",
    "e = a * c"
   ]
  },
  {
   "cell_type": "code",
   "execution_count": 39,
   "metadata": {},
   "outputs": [
    {
     "data": {
      "text/plain": [
       "True"
      ]
     },
     "execution_count": 39,
     "metadata": {},
     "output_type": "execute_result"
    }
   ],
   "source": [
    "#13. Does e equal to a? Why or why not?\n",
    "np.shape (e) == np.shape (a)"
   ]
  },
  {
   "cell_type": "code",
   "execution_count": 40,
   "metadata": {},
   "outputs": [
    {
     "name": "stdout",
     "output_type": "stream",
     "text": [
      "0.9961452312936099\n",
      "0.0019811280149993893\n",
      "0.4769721220027902\n"
     ]
    }
   ],
   "source": [
    "#14. Identify the max, min, and mean values in d. Assign those values to variables \"d_max\", \"d_min\", and \"d_mean\"\n",
    "d_max = np.amax(d)\n",
    "print(d_max)\n",
    "d_min = np.amin(d)\n",
    "print(d_min)\n",
    "d_mean = np.mean(d)\n",
    "print(d_mean)"
   ]
  },
  {
   "cell_type": "code",
   "execution_count": 41,
   "metadata": {},
   "outputs": [
    {
     "name": "stdout",
     "output_type": "stream",
     "text": [
      "[[[0. 0. 0. 0. 0.]\n",
      "  [0. 0. 0. 0. 0.]\n",
      "  [0. 0. 0. 0. 0.]]\n",
      "\n",
      " [[0. 0. 0. 0. 0.]\n",
      "  [0. 0. 0. 0. 0.]\n",
      "  [0. 0. 0. 0. 0.]]]\n"
     ]
    }
   ],
   "source": [
    "#15. Now we want to label the values in d. \n",
    "#First create an empty array \"f\" with the same shape (i.e. 2x3x5) as d using `np.empty`.\n",
    "f = np.empty ([2,3,5])\n",
    "print(f)"
   ]
  },
  {
   "cell_type": "code",
   "execution_count": 42,
   "metadata": {},
   "outputs": [
    {
     "name": "stdout",
     "output_type": "stream",
     "text": [
      "[[[ 25  25  75  25  75]\n",
      "  [ 75  25  75  25   0]\n",
      "  [100  75  25  75  25]]\n",
      "\n",
      " [[ 75  75  25  25  75]\n",
      "  [ 25  75  25  25  25]\n",
      "  [ 75  25  75  75  75]]]\n"
     ]
    }
   ],
   "source": [
    "#16. Populate the values in f. For each value in d, if it's larger than d_min but smaller than d_mean, assign 25 to the corresponding value in f.\n",
    "#If a value in d is larger than d_mean but smaller than d_max, assign 75 to the corresponding value in f.\n",
    "#If a value equals to d_mean, assign 50 to the corresponding value in f.\n",
    "#Assign 0 to the corresponding value(s) in f for d_min in d.\n",
    "#Assign 100 to the corresponding value(s) in f for d_max in d.\n",
    "#In the end, f should have only the following values: 0, 25, 50, 75, and 100.\n",
    "#Note: you don't have to use Numpy in this question.\n",
    "d_list = list(d)\n",
    "f_list = [[[0 if i == d_min else 50 if i == d_mean else 100 if i == d_max else 25 if i < d_mean and i > d_min else 75 for i in y] for y in x] for x in d_list]\n",
    "f = np.array (f_list)\n",
    "print (f)"
   ]
  },
  {
   "cell_type": "code",
   "execution_count": 49,
   "metadata": {},
   "outputs": [],
   "source": [
    "# #17. Print d and f. Do you have your expected f?\n",
    "# #For instance, if your d is:\n",
    "# # array([[[1.85836099, 1.67064465, 1.62576044, 1.40243961, 1.88454931],\n",
    "#         [1.75354326, 1.69403643, 1.36729252, 1.61415071, 1.12104981],\n",
    "#         [1.72201435, 1.1862918 , 1.87078449, 1.7726778 , 1.88180042]],\n",
    "\n",
    "#        [[1.44747908, 1.31673383, 1.02000951, 1.52218947, 1.97066381],\n",
    "#         [1.79129243, 1.74983003, 1.96028037, 1.85166831, 1.65450881],\n",
    "#         [1.18068344, 1.9587381 , 1.00656599, 1.93402165, 1.73514584]]])\n",
    "\n",
    "# #Your f should be:\n",
    "# # array([[[ 75.,  75.,  75.,  25.,  75.],\n",
    "#         [ 75.,  75.,  25.,  25.,  25.],\n",
    "#         [ 75.,  25.,  75.,  75.,  75.]],\n",
    "\n",
    "#        [[ 25.,  25.,  25.,  25., 100.],\n",
    "#         [ 75.,  75.,  75.,  75.,  75.],\n",
    "#         [ 25.,  75.,   0.,  75.,  75.]]])"
   ]
  },
  {
   "cell_type": "code",
   "execution_count": 47,
   "metadata": {},
   "outputs": [
    {
     "name": "stdout",
     "output_type": "stream",
     "text": [
      "[[['B' 'B' 'D' 'B' 'D']\n",
      "  ['D' 'B' 'D' 'B' 'A']\n",
      "  ['E' 'D' 'B' 'D' 'B']]\n",
      "\n",
      " [['D' 'D' 'B' 'B' 'D']\n",
      "  ['B' 'D' 'B' 'B' 'B']\n",
      "  ['D' 'B' 'D' 'D' 'D']]]\n"
     ]
    }
   ],
   "source": [
    "#18. Bonus question: instead of using numbers (i.e. 0, 25, 50, 75, and 100), how to use string values \n",
    "# (\"A\", \"B\", \"C\", \"D\", and \"E\") to label the array elements? You are expecting the result to be:\n",
    "# array([[[ 'D',  'D',  'D',  'B',  'D'],\n",
    "#         [ 'D',  'D',  'B',  'B',  'B'],\n",
    "#         [ 'D',  'B',  'D',  'D',  'D']],\n",
    "\n",
    "#        [[ 'B',  'B',  'B',  'B',  'E'],\n",
    "#         [ 'D',  'D',  'D',  'D',  'D'],\n",
    "#         [ 'B',  'D',   'A',  'D', 'D']]])\n",
    "# Again, you don't need Numpy in this question.\n",
    "f_list = list(f)\n",
    "g_list = [[['A' if i == 0 else 'C' if i == 50 \n",
    "            else 'E' if i == 100 else 'B' if i == 25 \n",
    "            else 'D' for i in y] for y in x] for x in f_list]\n",
    "g = np.reshape (g_list, (2, 3, 5))\n",
    "print (g)"
   ]
  },
  {
   "cell_type": "code",
   "execution_count": null,
   "metadata": {},
   "outputs": [],
   "source": []
  }
 ],
 "metadata": {
  "kernelspec": {
   "display_name": "Python [conda env:ironhack_env] *",
   "language": "python",
   "name": "conda-env-ironhack_env-py"
  },
  "language_info": {
   "codemirror_mode": {
    "name": "ipython",
    "version": 3
   },
   "file_extension": ".py",
   "mimetype": "text/x-python",
   "name": "python",
   "nbconvert_exporter": "python",
   "pygments_lexer": "ipython3",
   "version": "3.7.5"
  }
 },
 "nbformat": 4,
 "nbformat_minor": 2
}
